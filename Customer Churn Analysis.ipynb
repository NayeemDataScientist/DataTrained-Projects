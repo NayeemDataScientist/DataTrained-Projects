{
 "cells": [
  {
   "cell_type": "markdown",
   "id": "e801f6c5",
   "metadata": {},
   "source": [
    "# Customer Churn Analysis"
   ]
  },
  {
   "cell_type": "markdown",
   "id": "6f7296ba",
   "metadata": {},
   "source": [
    "# 1. Exploratory data analysis"
   ]
  },
  {
   "cell_type": "code",
   "execution_count": 107,
   "id": "a1adbc74",
   "metadata": {},
   "outputs": [],
   "source": [
    "import pandas as pd\n",
    "import numpy as np\n",
    "import matplotlib.pyplot as plt\n",
    "import seaborn as sns\n",
    "%matplotlib inline"
   ]
  },
  {
   "cell_type": "code",
   "execution_count": 108,
   "id": "f3cff3b4",
   "metadata": {},
   "outputs": [],
   "source": [
    "data=pd.read_csv('customer_churn.csv') #We load the dataset"
   ]
  },
  {
   "cell_type": "code",
   "execution_count": 109,
   "id": "5f5b3d85",
   "metadata": {},
   "outputs": [
    {
     "data": {
      "text/html": [
       "<div>\n",
       "<style scoped>\n",
       "    .dataframe tbody tr th:only-of-type {\n",
       "        vertical-align: middle;\n",
       "    }\n",
       "\n",
       "    .dataframe tbody tr th {\n",
       "        vertical-align: top;\n",
       "    }\n",
       "\n",
       "    .dataframe thead th {\n",
       "        text-align: right;\n",
       "    }\n",
       "</style>\n",
       "<table border=\"1\" class=\"dataframe\">\n",
       "  <thead>\n",
       "    <tr style=\"text-align: right;\">\n",
       "      <th></th>\n",
       "      <th>customerID</th>\n",
       "      <th>gender</th>\n",
       "      <th>SeniorCitizen</th>\n",
       "      <th>Partner</th>\n",
       "      <th>Dependents</th>\n",
       "      <th>tenure</th>\n",
       "      <th>PhoneService</th>\n",
       "      <th>MultipleLines</th>\n",
       "      <th>InternetService</th>\n",
       "      <th>OnlineSecurity</th>\n",
       "      <th>...</th>\n",
       "      <th>DeviceProtection</th>\n",
       "      <th>TechSupport</th>\n",
       "      <th>StreamingTV</th>\n",
       "      <th>StreamingMovies</th>\n",
       "      <th>Contract</th>\n",
       "      <th>PaperlessBilling</th>\n",
       "      <th>PaymentMethod</th>\n",
       "      <th>MonthlyCharges</th>\n",
       "      <th>TotalCharges</th>\n",
       "      <th>Churn</th>\n",
       "    </tr>\n",
       "  </thead>\n",
       "  <tbody>\n",
       "    <tr>\n",
       "      <th>0</th>\n",
       "      <td>7590-VHVEG</td>\n",
       "      <td>Female</td>\n",
       "      <td>0</td>\n",
       "      <td>Yes</td>\n",
       "      <td>No</td>\n",
       "      <td>1</td>\n",
       "      <td>No</td>\n",
       "      <td>No phone service</td>\n",
       "      <td>DSL</td>\n",
       "      <td>No</td>\n",
       "      <td>...</td>\n",
       "      <td>No</td>\n",
       "      <td>No</td>\n",
       "      <td>No</td>\n",
       "      <td>No</td>\n",
       "      <td>Month-to-month</td>\n",
       "      <td>Yes</td>\n",
       "      <td>Electronic check</td>\n",
       "      <td>29.85</td>\n",
       "      <td>29.85</td>\n",
       "      <td>No</td>\n",
       "    </tr>\n",
       "    <tr>\n",
       "      <th>1</th>\n",
       "      <td>5575-GNVDE</td>\n",
       "      <td>Male</td>\n",
       "      <td>0</td>\n",
       "      <td>No</td>\n",
       "      <td>No</td>\n",
       "      <td>34</td>\n",
       "      <td>Yes</td>\n",
       "      <td>No</td>\n",
       "      <td>DSL</td>\n",
       "      <td>Yes</td>\n",
       "      <td>...</td>\n",
       "      <td>Yes</td>\n",
       "      <td>No</td>\n",
       "      <td>No</td>\n",
       "      <td>No</td>\n",
       "      <td>One year</td>\n",
       "      <td>No</td>\n",
       "      <td>Mailed check</td>\n",
       "      <td>56.95</td>\n",
       "      <td>1889.5</td>\n",
       "      <td>No</td>\n",
       "    </tr>\n",
       "    <tr>\n",
       "      <th>2</th>\n",
       "      <td>3668-QPYBK</td>\n",
       "      <td>Male</td>\n",
       "      <td>0</td>\n",
       "      <td>No</td>\n",
       "      <td>No</td>\n",
       "      <td>2</td>\n",
       "      <td>Yes</td>\n",
       "      <td>No</td>\n",
       "      <td>DSL</td>\n",
       "      <td>Yes</td>\n",
       "      <td>...</td>\n",
       "      <td>No</td>\n",
       "      <td>No</td>\n",
       "      <td>No</td>\n",
       "      <td>No</td>\n",
       "      <td>Month-to-month</td>\n",
       "      <td>Yes</td>\n",
       "      <td>Mailed check</td>\n",
       "      <td>53.85</td>\n",
       "      <td>108.15</td>\n",
       "      <td>Yes</td>\n",
       "    </tr>\n",
       "    <tr>\n",
       "      <th>3</th>\n",
       "      <td>7795-CFOCW</td>\n",
       "      <td>Male</td>\n",
       "      <td>0</td>\n",
       "      <td>No</td>\n",
       "      <td>No</td>\n",
       "      <td>45</td>\n",
       "      <td>No</td>\n",
       "      <td>No phone service</td>\n",
       "      <td>DSL</td>\n",
       "      <td>Yes</td>\n",
       "      <td>...</td>\n",
       "      <td>Yes</td>\n",
       "      <td>Yes</td>\n",
       "      <td>No</td>\n",
       "      <td>No</td>\n",
       "      <td>One year</td>\n",
       "      <td>No</td>\n",
       "      <td>Bank transfer (automatic)</td>\n",
       "      <td>42.30</td>\n",
       "      <td>1840.75</td>\n",
       "      <td>No</td>\n",
       "    </tr>\n",
       "    <tr>\n",
       "      <th>4</th>\n",
       "      <td>9237-HQITU</td>\n",
       "      <td>Female</td>\n",
       "      <td>0</td>\n",
       "      <td>No</td>\n",
       "      <td>No</td>\n",
       "      <td>2</td>\n",
       "      <td>Yes</td>\n",
       "      <td>No</td>\n",
       "      <td>Fiber optic</td>\n",
       "      <td>No</td>\n",
       "      <td>...</td>\n",
       "      <td>No</td>\n",
       "      <td>No</td>\n",
       "      <td>No</td>\n",
       "      <td>No</td>\n",
       "      <td>Month-to-month</td>\n",
       "      <td>Yes</td>\n",
       "      <td>Electronic check</td>\n",
       "      <td>70.70</td>\n",
       "      <td>151.65</td>\n",
       "      <td>Yes</td>\n",
       "    </tr>\n",
       "  </tbody>\n",
       "</table>\n",
       "<p>5 rows × 21 columns</p>\n",
       "</div>"
      ],
      "text/plain": [
       "   customerID  gender  SeniorCitizen Partner Dependents  tenure PhoneService  \\\n",
       "0  7590-VHVEG  Female              0     Yes         No       1           No   \n",
       "1  5575-GNVDE    Male              0      No         No      34          Yes   \n",
       "2  3668-QPYBK    Male              0      No         No       2          Yes   \n",
       "3  7795-CFOCW    Male              0      No         No      45           No   \n",
       "4  9237-HQITU  Female              0      No         No       2          Yes   \n",
       "\n",
       "      MultipleLines InternetService OnlineSecurity  ... DeviceProtection  \\\n",
       "0  No phone service             DSL             No  ...               No   \n",
       "1                No             DSL            Yes  ...              Yes   \n",
       "2                No             DSL            Yes  ...               No   \n",
       "3  No phone service             DSL            Yes  ...              Yes   \n",
       "4                No     Fiber optic             No  ...               No   \n",
       "\n",
       "  TechSupport StreamingTV StreamingMovies        Contract PaperlessBilling  \\\n",
       "0          No          No              No  Month-to-month              Yes   \n",
       "1          No          No              No        One year               No   \n",
       "2          No          No              No  Month-to-month              Yes   \n",
       "3         Yes          No              No        One year               No   \n",
       "4          No          No              No  Month-to-month              Yes   \n",
       "\n",
       "               PaymentMethod MonthlyCharges  TotalCharges Churn  \n",
       "0           Electronic check          29.85         29.85    No  \n",
       "1               Mailed check          56.95        1889.5    No  \n",
       "2               Mailed check          53.85        108.15   Yes  \n",
       "3  Bank transfer (automatic)          42.30       1840.75    No  \n",
       "4           Electronic check          70.70        151.65   Yes  \n",
       "\n",
       "[5 rows x 21 columns]"
      ]
     },
     "execution_count": 109,
     "metadata": {},
     "output_type": "execute_result"
    }
   ],
   "source": [
    "data.head()\n",
    "#An overview of our data"
   ]
  },
  {
   "cell_type": "code",
   "execution_count": 110,
   "id": "11a1ea30",
   "metadata": {},
   "outputs": [
    {
     "data": {
      "text/html": [
       "<div>\n",
       "<style scoped>\n",
       "    .dataframe tbody tr th:only-of-type {\n",
       "        vertical-align: middle;\n",
       "    }\n",
       "\n",
       "    .dataframe tbody tr th {\n",
       "        vertical-align: top;\n",
       "    }\n",
       "\n",
       "    .dataframe thead th {\n",
       "        text-align: right;\n",
       "    }\n",
       "</style>\n",
       "<table border=\"1\" class=\"dataframe\">\n",
       "  <thead>\n",
       "    <tr style=\"text-align: right;\">\n",
       "      <th></th>\n",
       "      <th>0</th>\n",
       "      <th>1</th>\n",
       "      <th>2</th>\n",
       "      <th>3</th>\n",
       "      <th>4</th>\n",
       "    </tr>\n",
       "  </thead>\n",
       "  <tbody>\n",
       "    <tr>\n",
       "      <th>customerID</th>\n",
       "      <td>7590-VHVEG</td>\n",
       "      <td>5575-GNVDE</td>\n",
       "      <td>3668-QPYBK</td>\n",
       "      <td>7795-CFOCW</td>\n",
       "      <td>9237-HQITU</td>\n",
       "    </tr>\n",
       "    <tr>\n",
       "      <th>gender</th>\n",
       "      <td>Female</td>\n",
       "      <td>Male</td>\n",
       "      <td>Male</td>\n",
       "      <td>Male</td>\n",
       "      <td>Female</td>\n",
       "    </tr>\n",
       "    <tr>\n",
       "      <th>SeniorCitizen</th>\n",
       "      <td>0</td>\n",
       "      <td>0</td>\n",
       "      <td>0</td>\n",
       "      <td>0</td>\n",
       "      <td>0</td>\n",
       "    </tr>\n",
       "    <tr>\n",
       "      <th>Partner</th>\n",
       "      <td>Yes</td>\n",
       "      <td>No</td>\n",
       "      <td>No</td>\n",
       "      <td>No</td>\n",
       "      <td>No</td>\n",
       "    </tr>\n",
       "    <tr>\n",
       "      <th>Dependents</th>\n",
       "      <td>No</td>\n",
       "      <td>No</td>\n",
       "      <td>No</td>\n",
       "      <td>No</td>\n",
       "      <td>No</td>\n",
       "    </tr>\n",
       "    <tr>\n",
       "      <th>tenure</th>\n",
       "      <td>1</td>\n",
       "      <td>34</td>\n",
       "      <td>2</td>\n",
       "      <td>45</td>\n",
       "      <td>2</td>\n",
       "    </tr>\n",
       "    <tr>\n",
       "      <th>PhoneService</th>\n",
       "      <td>No</td>\n",
       "      <td>Yes</td>\n",
       "      <td>Yes</td>\n",
       "      <td>No</td>\n",
       "      <td>Yes</td>\n",
       "    </tr>\n",
       "    <tr>\n",
       "      <th>MultipleLines</th>\n",
       "      <td>No phone service</td>\n",
       "      <td>No</td>\n",
       "      <td>No</td>\n",
       "      <td>No phone service</td>\n",
       "      <td>No</td>\n",
       "    </tr>\n",
       "    <tr>\n",
       "      <th>InternetService</th>\n",
       "      <td>DSL</td>\n",
       "      <td>DSL</td>\n",
       "      <td>DSL</td>\n",
       "      <td>DSL</td>\n",
       "      <td>Fiber optic</td>\n",
       "    </tr>\n",
       "    <tr>\n",
       "      <th>OnlineSecurity</th>\n",
       "      <td>No</td>\n",
       "      <td>Yes</td>\n",
       "      <td>Yes</td>\n",
       "      <td>Yes</td>\n",
       "      <td>No</td>\n",
       "    </tr>\n",
       "    <tr>\n",
       "      <th>OnlineBackup</th>\n",
       "      <td>Yes</td>\n",
       "      <td>No</td>\n",
       "      <td>Yes</td>\n",
       "      <td>No</td>\n",
       "      <td>No</td>\n",
       "    </tr>\n",
       "    <tr>\n",
       "      <th>DeviceProtection</th>\n",
       "      <td>No</td>\n",
       "      <td>Yes</td>\n",
       "      <td>No</td>\n",
       "      <td>Yes</td>\n",
       "      <td>No</td>\n",
       "    </tr>\n",
       "    <tr>\n",
       "      <th>TechSupport</th>\n",
       "      <td>No</td>\n",
       "      <td>No</td>\n",
       "      <td>No</td>\n",
       "      <td>Yes</td>\n",
       "      <td>No</td>\n",
       "    </tr>\n",
       "    <tr>\n",
       "      <th>StreamingTV</th>\n",
       "      <td>No</td>\n",
       "      <td>No</td>\n",
       "      <td>No</td>\n",
       "      <td>No</td>\n",
       "      <td>No</td>\n",
       "    </tr>\n",
       "    <tr>\n",
       "      <th>StreamingMovies</th>\n",
       "      <td>No</td>\n",
       "      <td>No</td>\n",
       "      <td>No</td>\n",
       "      <td>No</td>\n",
       "      <td>No</td>\n",
       "    </tr>\n",
       "    <tr>\n",
       "      <th>Contract</th>\n",
       "      <td>Month-to-month</td>\n",
       "      <td>One year</td>\n",
       "      <td>Month-to-month</td>\n",
       "      <td>One year</td>\n",
       "      <td>Month-to-month</td>\n",
       "    </tr>\n",
       "    <tr>\n",
       "      <th>PaperlessBilling</th>\n",
       "      <td>Yes</td>\n",
       "      <td>No</td>\n",
       "      <td>Yes</td>\n",
       "      <td>No</td>\n",
       "      <td>Yes</td>\n",
       "    </tr>\n",
       "    <tr>\n",
       "      <th>PaymentMethod</th>\n",
       "      <td>Electronic check</td>\n",
       "      <td>Mailed check</td>\n",
       "      <td>Mailed check</td>\n",
       "      <td>Bank transfer (automatic)</td>\n",
       "      <td>Electronic check</td>\n",
       "    </tr>\n",
       "    <tr>\n",
       "      <th>MonthlyCharges</th>\n",
       "      <td>29.85</td>\n",
       "      <td>56.95</td>\n",
       "      <td>53.85</td>\n",
       "      <td>42.3</td>\n",
       "      <td>70.7</td>\n",
       "    </tr>\n",
       "    <tr>\n",
       "      <th>TotalCharges</th>\n",
       "      <td>29.85</td>\n",
       "      <td>1889.5</td>\n",
       "      <td>108.15</td>\n",
       "      <td>1840.75</td>\n",
       "      <td>151.65</td>\n",
       "    </tr>\n",
       "    <tr>\n",
       "      <th>Churn</th>\n",
       "      <td>No</td>\n",
       "      <td>No</td>\n",
       "      <td>Yes</td>\n",
       "      <td>No</td>\n",
       "      <td>Yes</td>\n",
       "    </tr>\n",
       "  </tbody>\n",
       "</table>\n",
       "</div>"
      ],
      "text/plain": [
       "                                 0             1               2  \\\n",
       "customerID              7590-VHVEG    5575-GNVDE      3668-QPYBK   \n",
       "gender                      Female          Male            Male   \n",
       "SeniorCitizen                    0             0               0   \n",
       "Partner                        Yes            No              No   \n",
       "Dependents                      No            No              No   \n",
       "tenure                           1            34               2   \n",
       "PhoneService                    No           Yes             Yes   \n",
       "MultipleLines     No phone service            No              No   \n",
       "InternetService                DSL           DSL             DSL   \n",
       "OnlineSecurity                  No           Yes             Yes   \n",
       "OnlineBackup                   Yes            No             Yes   \n",
       "DeviceProtection                No           Yes              No   \n",
       "TechSupport                     No            No              No   \n",
       "StreamingTV                     No            No              No   \n",
       "StreamingMovies                 No            No              No   \n",
       "Contract            Month-to-month      One year  Month-to-month   \n",
       "PaperlessBilling               Yes            No             Yes   \n",
       "PaymentMethod     Electronic check  Mailed check    Mailed check   \n",
       "MonthlyCharges               29.85         56.95           53.85   \n",
       "TotalCharges                 29.85        1889.5          108.15   \n",
       "Churn                           No            No             Yes   \n",
       "\n",
       "                                          3                 4  \n",
       "customerID                       7795-CFOCW        9237-HQITU  \n",
       "gender                                 Male            Female  \n",
       "SeniorCitizen                             0                 0  \n",
       "Partner                                  No                No  \n",
       "Dependents                               No                No  \n",
       "tenure                                   45                 2  \n",
       "PhoneService                             No               Yes  \n",
       "MultipleLines              No phone service                No  \n",
       "InternetService                         DSL       Fiber optic  \n",
       "OnlineSecurity                          Yes                No  \n",
       "OnlineBackup                             No                No  \n",
       "DeviceProtection                        Yes                No  \n",
       "TechSupport                             Yes                No  \n",
       "StreamingTV                              No                No  \n",
       "StreamingMovies                          No                No  \n",
       "Contract                           One year    Month-to-month  \n",
       "PaperlessBilling                         No               Yes  \n",
       "PaymentMethod     Bank transfer (automatic)  Electronic check  \n",
       "MonthlyCharges                         42.3              70.7  \n",
       "TotalCharges                        1840.75            151.65  \n",
       "Churn                                    No               Yes  "
      ]
     },
     "execution_count": 110,
     "metadata": {},
     "output_type": "execute_result"
    }
   ],
   "source": [
    "data.head().T\n",
    "#An overview of our data\n"
   ]
  },
  {
   "cell_type": "code",
   "execution_count": 111,
   "id": "131df13f",
   "metadata": {},
   "outputs": [
    {
     "data": {
      "text/plain": [
       "(7043, 21)"
      ]
     },
     "execution_count": 111,
     "metadata": {},
     "output_type": "execute_result"
    }
   ],
   "source": [
    "data.shape"
   ]
  },
  {
   "cell_type": "markdown",
   "id": "a6183ca3",
   "metadata": {},
   "source": [
    "There are 7043 customers and 20 features. The target variable we want to be able to predict is Churn which is equal to 'Yes' if the customer churned, and 'No' otherwise"
   ]
  },
  {
   "cell_type": "code",
   "execution_count": 112,
   "id": "a444b046",
   "metadata": {},
   "outputs": [
    {
     "data": {
      "text/plain": [
       "customerID           object\n",
       "gender               object\n",
       "SeniorCitizen         int64\n",
       "Partner              object\n",
       "Dependents           object\n",
       "tenure                int64\n",
       "PhoneService         object\n",
       "MultipleLines        object\n",
       "InternetService      object\n",
       "OnlineSecurity       object\n",
       "OnlineBackup         object\n",
       "DeviceProtection     object\n",
       "TechSupport          object\n",
       "StreamingTV          object\n",
       "StreamingMovies      object\n",
       "Contract             object\n",
       "PaperlessBilling     object\n",
       "PaymentMethod        object\n",
       "MonthlyCharges      float64\n",
       "TotalCharges         object\n",
       "Churn                object\n",
       "dtype: object"
      ]
     },
     "execution_count": 112,
     "metadata": {},
     "output_type": "execute_result"
    }
   ],
   "source": [
    "data.dtypes"
   ]
  },
  {
   "cell_type": "markdown",
   "id": "8b6d5ef8",
   "metadata": {},
   "source": [
    "There are :\n",
    "\n",
    "3 numeric variables – tenure, MonthlyCharges and TotalCharges\n",
    "18 categorical variables (SeniorCitizen is equal to 1 if the customer is considered 'Senior' and 0 otherwise)"
   ]
  },
  {
   "cell_type": "code",
   "execution_count": 113,
   "id": "78fe92d9",
   "metadata": {},
   "outputs": [
    {
     "data": {
      "text/plain": [
       "array([' ', '100.2', '100.25', ..., '999.45', '999.8', '999.9'],\n",
       "      dtype=object)"
      ]
     },
     "execution_count": 113,
     "metadata": {},
     "output_type": "execute_result"
    }
   ],
   "source": [
    "np.unique(data.TotalCharges.values)"
   ]
  },
  {
   "cell_type": "markdown",
   "id": "8b2cf0ba",
   "metadata": {},
   "source": [
    "There are missing values in TotalCharges column that are equal to ' ', that's why it's considered as an \"object\". Let's correct this"
   ]
  },
  {
   "cell_type": "code",
   "execution_count": 114,
   "id": "bd49e7d3",
   "metadata": {},
   "outputs": [],
   "source": [
    "data=data.replace(to_replace=\" \",value=np.nan) #this will allow us to convert the feature to numeric"
   ]
  },
  {
   "cell_type": "code",
   "execution_count": 115,
   "id": "2ec9314f",
   "metadata": {},
   "outputs": [],
   "source": [
    "data.TotalCharges=pd.to_numeric(data.TotalCharges) "
   ]
  },
  {
   "cell_type": "code",
   "execution_count": 116,
   "id": "61633cc7",
   "metadata": {},
   "outputs": [
    {
     "data": {
      "text/plain": [
       "customerID           object\n",
       "gender               object\n",
       "SeniorCitizen         int64\n",
       "Partner              object\n",
       "Dependents           object\n",
       "tenure                int64\n",
       "PhoneService         object\n",
       "MultipleLines        object\n",
       "InternetService      object\n",
       "OnlineSecurity       object\n",
       "OnlineBackup         object\n",
       "DeviceProtection     object\n",
       "TechSupport          object\n",
       "StreamingTV          object\n",
       "StreamingMovies      object\n",
       "Contract             object\n",
       "PaperlessBilling     object\n",
       "PaymentMethod        object\n",
       "MonthlyCharges      float64\n",
       "TotalCharges        float64\n",
       "Churn                object\n",
       "dtype: object"
      ]
     },
     "execution_count": 116,
     "metadata": {},
     "output_type": "execute_result"
    }
   ],
   "source": [
    "data.dtypes "
   ]
  },
  {
   "cell_type": "markdown",
   "id": "1226c309",
   "metadata": {},
   "source": [
    "Now dtypes are correct"
   ]
  },
  {
   "cell_type": "code",
   "execution_count": 117,
   "id": "a5b3293a",
   "metadata": {},
   "outputs": [
    {
     "data": {
      "text/plain": [
       "array([18.8 , 18.85, 18.9 , ...,   nan,   nan,   nan])"
      ]
     },
     "execution_count": 117,
     "metadata": {},
     "output_type": "execute_result"
    }
   ],
   "source": [
    "np.unique(data.TotalCharges.values) #we check if ' ' values disappeared"
   ]
  },
  {
   "cell_type": "code",
   "execution_count": 118,
   "id": "1f77a84d",
   "metadata": {},
   "outputs": [
    {
     "data": {
      "text/html": [
       "<div>\n",
       "<style scoped>\n",
       "    .dataframe tbody tr th:only-of-type {\n",
       "        vertical-align: middle;\n",
       "    }\n",
       "\n",
       "    .dataframe tbody tr th {\n",
       "        vertical-align: top;\n",
       "    }\n",
       "\n",
       "    .dataframe thead th {\n",
       "        text-align: right;\n",
       "    }\n",
       "</style>\n",
       "<table border=\"1\" class=\"dataframe\">\n",
       "  <thead>\n",
       "    <tr style=\"text-align: right;\">\n",
       "      <th></th>\n",
       "      <th>SeniorCitizen</th>\n",
       "      <th>tenure</th>\n",
       "      <th>MonthlyCharges</th>\n",
       "      <th>TotalCharges</th>\n",
       "    </tr>\n",
       "  </thead>\n",
       "  <tbody>\n",
       "    <tr>\n",
       "      <th>count</th>\n",
       "      <td>7043.000000</td>\n",
       "      <td>7043.000000</td>\n",
       "      <td>7043.000000</td>\n",
       "      <td>7032.000000</td>\n",
       "    </tr>\n",
       "    <tr>\n",
       "      <th>mean</th>\n",
       "      <td>0.162147</td>\n",
       "      <td>32.371149</td>\n",
       "      <td>64.761692</td>\n",
       "      <td>2283.300441</td>\n",
       "    </tr>\n",
       "    <tr>\n",
       "      <th>std</th>\n",
       "      <td>0.368612</td>\n",
       "      <td>24.559481</td>\n",
       "      <td>30.090047</td>\n",
       "      <td>2266.771362</td>\n",
       "    </tr>\n",
       "    <tr>\n",
       "      <th>min</th>\n",
       "      <td>0.000000</td>\n",
       "      <td>0.000000</td>\n",
       "      <td>18.250000</td>\n",
       "      <td>18.800000</td>\n",
       "    </tr>\n",
       "    <tr>\n",
       "      <th>25%</th>\n",
       "      <td>0.000000</td>\n",
       "      <td>9.000000</td>\n",
       "      <td>35.500000</td>\n",
       "      <td>401.450000</td>\n",
       "    </tr>\n",
       "    <tr>\n",
       "      <th>50%</th>\n",
       "      <td>0.000000</td>\n",
       "      <td>29.000000</td>\n",
       "      <td>70.350000</td>\n",
       "      <td>1397.475000</td>\n",
       "    </tr>\n",
       "    <tr>\n",
       "      <th>75%</th>\n",
       "      <td>0.000000</td>\n",
       "      <td>55.000000</td>\n",
       "      <td>89.850000</td>\n",
       "      <td>3794.737500</td>\n",
       "    </tr>\n",
       "    <tr>\n",
       "      <th>max</th>\n",
       "      <td>1.000000</td>\n",
       "      <td>72.000000</td>\n",
       "      <td>118.750000</td>\n",
       "      <td>8684.800000</td>\n",
       "    </tr>\n",
       "  </tbody>\n",
       "</table>\n",
       "</div>"
      ],
      "text/plain": [
       "       SeniorCitizen       tenure  MonthlyCharges  TotalCharges\n",
       "count    7043.000000  7043.000000     7043.000000   7032.000000\n",
       "mean        0.162147    32.371149       64.761692   2283.300441\n",
       "std         0.368612    24.559481       30.090047   2266.771362\n",
       "min         0.000000     0.000000       18.250000     18.800000\n",
       "25%         0.000000     9.000000       35.500000    401.450000\n",
       "50%         0.000000    29.000000       70.350000   1397.475000\n",
       "75%         0.000000    55.000000       89.850000   3794.737500\n",
       "max         1.000000    72.000000      118.750000   8684.800000"
      ]
     },
     "execution_count": 118,
     "metadata": {},
     "output_type": "execute_result"
    }
   ],
   "source": [
    " data.describe() #now let's look at basic statistics"
   ]
  },
  {
   "cell_type": "markdown",
   "id": "26adcb15",
   "metadata": {},
   "source": [
    "This table show that there are 11 missing values in TotalCharges. On average people stay 1 month, but the dispersion of values is high with a standard deviation of 24"
   ]
  },
  {
   "cell_type": "code",
   "execution_count": 119,
   "id": "ab7e39ed",
   "metadata": {},
   "outputs": [
    {
     "data": {
      "text/plain": [
       "customerID           0\n",
       "gender               0\n",
       "SeniorCitizen        0\n",
       "Partner              0\n",
       "Dependents           0\n",
       "tenure               0\n",
       "PhoneService         0\n",
       "MultipleLines        0\n",
       "InternetService      0\n",
       "OnlineSecurity       0\n",
       "OnlineBackup         0\n",
       "DeviceProtection     0\n",
       "TechSupport          0\n",
       "StreamingTV          0\n",
       "StreamingMovies      0\n",
       "Contract             0\n",
       "PaperlessBilling     0\n",
       "PaymentMethod        0\n",
       "MonthlyCharges       0\n",
       "TotalCharges        11\n",
       "Churn                0\n",
       "dtype: int64"
      ]
     },
     "execution_count": 119,
     "metadata": {},
     "output_type": "execute_result"
    }
   ],
   "source": [
    "data.isnull().sum() #how many missing values"
   ]
  },
  {
   "cell_type": "code",
   "execution_count": 120,
   "id": "95f11fd5",
   "metadata": {},
   "outputs": [
    {
     "data": {
      "text/plain": [
       "Index(['SeniorCitizen', 'tenure', 'MonthlyCharges', 'TotalCharges'], dtype='object')"
      ]
     },
     "execution_count": 120,
     "metadata": {},
     "output_type": "execute_result"
    }
   ],
   "source": [
    "numeric_features = data.select_dtypes(include=[np.number])\n",
    "numeric_features.columns"
   ]
  },
  {
   "cell_type": "code",
   "execution_count": 121,
   "id": "3d699660",
   "metadata": {},
   "outputs": [
    {
     "data": {
      "text/plain": [
       "Index(['customerID', 'gender', 'Partner', 'Dependents', 'PhoneService',\n",
       "       'MultipleLines', 'InternetService', 'OnlineSecurity', 'OnlineBackup',\n",
       "       'DeviceProtection', 'TechSupport', 'StreamingTV', 'StreamingMovies',\n",
       "       'Contract', 'PaperlessBilling', 'PaymentMethod', 'Churn'],\n",
       "      dtype='object')"
      ]
     },
     "execution_count": 121,
     "metadata": {},
     "output_type": "execute_result"
    }
   ],
   "source": [
    "categorical_features = data.select_dtypes(include=[np.object])\n",
    "categorical_features.columns\n",
    "\n"
   ]
  },
  {
   "cell_type": "code",
   "execution_count": 122,
   "id": "45682bab",
   "metadata": {},
   "outputs": [
    {
     "data": {
      "image/png": "[encoded data removed]",
      "text/plain": [
       "<Figure size 432x288 with 1 Axes>"
      ]
     },
     "metadata": {
      "needs_background": "light"
     },
     "output_type": "display_data"
    }
   ],
   "source": [
    "sns.countplot(x='gender', data=data)\n",
    "plt.show()\n",
    "import warnings\n",
    "warnings.filterwarnings('ignore')"
   ]
  },
  {
   "cell_type": "code",
   "execution_count": 123,
   "id": "6cabdf08",
   "metadata": {},
   "outputs": [
    {
     "data": {
      "image/png": "[encoded data removed]",
      "text/plain": [
       "<Figure size 432x288 with 1 Axes>"
      ]
     },
     "metadata": {
      "needs_background": "light"
     },
     "output_type": "display_data"
    }
   ],
   "source": [
    "sns.countplot(x='SeniorCitizen', data=data)\n",
    "plt.show()"
   ]
  },
  {
   "cell_type": "markdown",
   "id": "9f1e963f",
   "metadata": {},
   "source": [
    "There are 6 times less seniors"
   ]
  },
  {
   "cell_type": "code",
   "execution_count": 124,
   "id": "37302fa8",
   "metadata": {},
   "outputs": [
    {
     "data": {
      "image/png": "[encoded data removed]",
      "text/plain": [
       "<Figure size 432x288 with 1 Axes>"
      ]
     },
     "metadata": {
      "needs_background": "light"
     },
     "output_type": "display_data"
    }
   ],
   "source": [
    "sns.countplot(x='Dependents', data=data)\n",
    "plt.show()"
   ]
  },
  {
   "cell_type": "markdown",
   "id": "61629903",
   "metadata": {},
   "source": [
    "There are two times more people with dependents"
   ]
  },
  {
   "cell_type": "code",
   "execution_count": 125,
   "id": "6b294a7f",
   "metadata": {},
   "outputs": [
    {
     "data": {
      "image/png": "[encoded data removed]",
      "text/plain": [
       "<Figure size 432x288 with 1 Axes>"
      ]
     },
     "metadata": {
      "needs_background": "light"
     },
     "output_type": "display_data"
    }
   ],
   "source": [
    "sns.distplot(data.tenure) #distribution with kernel density estimation, 20 bins by default\n",
    "plt.show()\n"
   ]
  },
  {
   "cell_type": "markdown",
   "id": "e647b5f1",
   "metadata": {},
   "source": [
    "This feature don't follow a normal distribution. The plot shows that there are many people who stay for a short time, and many people who stay for more than 60 months (5 years), this kind of distribution was expected"
   ]
  },
  {
   "cell_type": "code",
   "execution_count": 126,
   "id": "f5cfdebc",
   "metadata": {},
   "outputs": [
    {
     "data": {
      "image/png": "[encoded data removed]",
      "text/plain": [
       "<Figure size 432x288 with 1 Axes>"
      ]
     },
     "metadata": {
      "needs_background": "light"
     },
     "output_type": "display_data"
    }
   ],
   "source": [
    "sns.countplot(x='Contract', data=data)\n",
    "plt.show()"
   ]
  },
  {
   "cell_type": "markdown",
   "id": "8940914f",
   "metadata": {},
   "source": [
    "Most customers have a Month-to-month contract"
   ]
  },
  {
   "cell_type": "code",
   "execution_count": 127,
   "id": "cf2f853c",
   "metadata": {},
   "outputs": [
    {
     "data": {
      "image/png": "[encoded data removed]",
      "text/plain": [
       "<Figure size 432x288 with 1 Axes>"
      ]
     },
     "metadata": {
      "needs_background": "light"
     },
     "output_type": "display_data"
    }
   ],
   "source": [
    "sns.countplot(x='PaperlessBilling', data=data)\n",
    "plt.show()"
   ]
  },
  {
   "cell_type": "markdown",
   "id": "d66ea271",
   "metadata": {},
   "source": [
    "A lot of customers have a paperless billing"
   ]
  },
  {
   "cell_type": "code",
   "execution_count": 128,
   "id": "4138fc8e",
   "metadata": {},
   "outputs": [
    {
     "data": {
      "image/png": "[encoded data removed]",
      "text/plain": [
       "<Figure size 432x288 with 1 Axes>"
      ]
     },
     "metadata": {
      "needs_background": "light"
     },
     "output_type": "display_data"
    }
   ],
   "source": [
    "ax = sns.countplot(x='PaymentMethod', data=data)\n",
    "plt.setp(ax.get_xticklabels(),rotation=30)[1]"
   ]
  },
  {
   "cell_type": "markdown",
   "id": "9f4a5b66",
   "metadata": {},
   "source": [
    "Electronic check, Mailed check, Bank transfer, Credit card"
   ]
  },
  {
   "cell_type": "code",
   "execution_count": 129,
   "id": "3fc3d814",
   "metadata": {},
   "outputs": [
    {
     "data": {
      "image/png": "[encoded data removed]",
      "text/plain": [
       "<Figure size 432x288 with 1 Axes>"
      ]
     },
     "metadata": {
      "needs_background": "light"
     },
     "output_type": "display_data"
    }
   ],
   "source": [
    "sns.countplot(x='Churn', data=data)\n",
    "plt.show()"
   ]
  },
  {
   "cell_type": "code",
   "execution_count": 130,
   "id": "cce425a5",
   "metadata": {},
   "outputs": [
    {
     "data": {
      "image/png": "[encoded data removed]",
      "text/plain": [
       "<Figure size 432x288 with 1 Axes>"
      ]
     },
     "metadata": {
      "needs_background": "light"
     },
     "output_type": "display_data"
    }
   ],
   "source": [
    "sns.distplot(data.MonthlyCharges)\n",
    "plt.show()"
   ]
  },
  {
   "cell_type": "markdown",
   "id": "d6997a0c",
   "metadata": {},
   "source": [
    "A lot of people have minimum monthly charges because they choose the cheapest offer"
   ]
  },
  {
   "cell_type": "code",
   "execution_count": 131,
   "id": "4af8669f",
   "metadata": {},
   "outputs": [
    {
     "data": {
      "image/png": "[encoded data removed]",
      "text/plain": [
       "<Figure size 432x288 with 1 Axes>"
      ]
     },
     "metadata": {
      "needs_background": "light"
     },
     "output_type": "display_data"
    }
   ],
   "source": [
    "sns.distplot(data.dropna().TotalCharges)\n",
    "plt.show()"
   ]
  },
  {
   "cell_type": "code",
   "execution_count": 132,
   "id": "ebfdea78",
   "metadata": {},
   "outputs": [
    {
     "data": {
      "image/png": "[encoded data removed]",
      "text/plain": [
       "<Figure size 1296x1296 with 16 Axes>"
      ]
     },
     "metadata": {
      "needs_background": "light"
     },
     "output_type": "display_data"
    }
   ],
   "source": [
    "#We plot synthesis of the charts of all the features\n",
    "plt.figure(figsize=(18, 18))\n",
    "\n",
    "for k in range(1, len(categorical_features.columns)):\n",
    "    plt.subplot(4, 4, k)\n",
    "    sns.countplot(x=categorical_features.columns[k], data=data)"
   ]
  },
  {
   "cell_type": "markdown",
   "id": "18bb7212",
   "metadata": {},
   "source": [
    "Let's visualize categorical features based on Churn"
   ]
  },
  {
   "cell_type": "markdown",
   "id": "97ebf803",
   "metadata": {},
   "source": [
    "# Bivariate analysis"
   ]
  },
  {
   "cell_type": "code",
   "execution_count": 133,
   "id": "53087d4d",
   "metadata": {},
   "outputs": [
    {
     "data": {
      "image/png": "[encoded data removed]",
      "text/plain": [
       "<Figure size 1296x1296 with 16 Axes>"
      ]
     },
     "metadata": {
      "needs_background": "light"
     },
     "output_type": "display_data"
    }
   ],
   "source": [
    "plt.figure(figsize=(18, 18))\n",
    "\n",
    "for k in range(1, len(categorical_features.columns)):\n",
    "    plt.subplot(4, 4, k)\n",
    "    sns.countplot(x=categorical_features.columns[k], data=data, hue='Churn')"
   ]
  },
  {
   "cell_type": "markdown",
   "id": "607dbc95",
   "metadata": {},
   "source": [
    "Among those who have optical fiber, there are many who churn, those who have no technical support, no device protection probably due to a lack of quality. Indeed, according to this study by Oracle, 89% churn because they look for a better quality\n",
    "Those who have a month-to-month contract are more likely to churn\n",
    "These will be important features for the classification"
   ]
  },
  {
   "cell_type": "code",
   "execution_count": 134,
   "id": "8b287bee",
   "metadata": {},
   "outputs": [
    {
     "data": {
      "image/png": "[encoded data removed]",
      "text/plain": [
       "<Figure size 432x288 with 1 Axes>"
      ]
     },
     "metadata": {
      "needs_background": "light"
     },
     "output_type": "display_data"
    }
   ],
   "source": [
    "sns.countplot(x='SeniorCitizen', data=data, hue='Churn')\n",
    "plt.show()"
   ]
  },
  {
   "cell_type": "markdown",
   "id": "3b75fed3",
   "metadata": {},
   "source": [
    "Now we will analyse important features : tenure, TotalCharges and MonthlyCharges.\n",
    "It will help us answer the question : Which customers have the most value for the company ?"
   ]
  },
  {
   "cell_type": "code",
   "execution_count": 135,
   "id": "f3955dfb",
   "metadata": {},
   "outputs": [
    {
     "data": {
      "text/html": [
       "<div>\n",
       "<style scoped>\n",
       "    .dataframe tbody tr th:only-of-type {\n",
       "        vertical-align: middle;\n",
       "    }\n",
       "\n",
       "    .dataframe tbody tr th {\n",
       "        vertical-align: top;\n",
       "    }\n",
       "\n",
       "    .dataframe thead th {\n",
       "        text-align: right;\n",
       "    }\n",
       "</style>\n",
       "<table border=\"1\" class=\"dataframe\">\n",
       "  <thead>\n",
       "    <tr style=\"text-align: right;\">\n",
       "      <th></th>\n",
       "      <th>InternetService</th>\n",
       "      <th>DSL</th>\n",
       "      <th>Fiber optic</th>\n",
       "      <th>No</th>\n",
       "    </tr>\n",
       "  </thead>\n",
       "  <tbody>\n",
       "    <tr>\n",
       "      <th rowspan=\"8\" valign=\"top\">tenure</th>\n",
       "      <th>count</th>\n",
       "      <td>2421.000000</td>\n",
       "      <td>3096.000000</td>\n",
       "      <td>1526.000000</td>\n",
       "    </tr>\n",
       "    <tr>\n",
       "      <th>mean</th>\n",
       "      <td>32.821561</td>\n",
       "      <td>32.917959</td>\n",
       "      <td>30.547182</td>\n",
       "    </tr>\n",
       "    <tr>\n",
       "      <th>std</th>\n",
       "      <td>24.812178</td>\n",
       "      <td>24.425332</td>\n",
       "      <td>24.356507</td>\n",
       "    </tr>\n",
       "    <tr>\n",
       "      <th>min</th>\n",
       "      <td>0.000000</td>\n",
       "      <td>1.000000</td>\n",
       "      <td>0.000000</td>\n",
       "    </tr>\n",
       "    <tr>\n",
       "      <th>25%</th>\n",
       "      <td>9.000000</td>\n",
       "      <td>9.000000</td>\n",
       "      <td>8.000000</td>\n",
       "    </tr>\n",
       "    <tr>\n",
       "      <th>50%</th>\n",
       "      <td>29.000000</td>\n",
       "      <td>30.000000</td>\n",
       "      <td>25.000000</td>\n",
       "    </tr>\n",
       "    <tr>\n",
       "      <th>75%</th>\n",
       "      <td>56.000000</td>\n",
       "      <td>56.000000</td>\n",
       "      <td>52.750000</td>\n",
       "    </tr>\n",
       "    <tr>\n",
       "      <th>max</th>\n",
       "      <td>72.000000</td>\n",
       "      <td>72.000000</td>\n",
       "      <td>72.000000</td>\n",
       "    </tr>\n",
       "    <tr>\n",
       "      <th rowspan=\"8\" valign=\"top\">MonthlyCharges</th>\n",
       "      <th>count</th>\n",
       "      <td>2421.000000</td>\n",
       "      <td>3096.000000</td>\n",
       "      <td>1526.000000</td>\n",
       "    </tr>\n",
       "    <tr>\n",
       "      <th>mean</th>\n",
       "      <td>58.102169</td>\n",
       "      <td>91.500129</td>\n",
       "      <td>21.079194</td>\n",
       "    </tr>\n",
       "    <tr>\n",
       "      <th>std</th>\n",
       "      <td>16.259522</td>\n",
       "      <td>12.663039</td>\n",
       "      <td>2.164221</td>\n",
       "    </tr>\n",
       "    <tr>\n",
       "      <th>min</th>\n",
       "      <td>23.450000</td>\n",
       "      <td>67.750000</td>\n",
       "      <td>18.250000</td>\n",
       "    </tr>\n",
       "    <tr>\n",
       "      <th>25%</th>\n",
       "      <td>46.200000</td>\n",
       "      <td>80.550000</td>\n",
       "      <td>19.700000</td>\n",
       "    </tr>\n",
       "    <tr>\n",
       "      <th>50%</th>\n",
       "      <td>56.150000</td>\n",
       "      <td>91.675000</td>\n",
       "      <td>20.150000</td>\n",
       "    </tr>\n",
       "    <tr>\n",
       "      <th>75%</th>\n",
       "      <td>69.900000</td>\n",
       "      <td>101.150000</td>\n",
       "      <td>20.900000</td>\n",
       "    </tr>\n",
       "    <tr>\n",
       "      <th>max</th>\n",
       "      <td>94.800000</td>\n",
       "      <td>118.750000</td>\n",
       "      <td>26.900000</td>\n",
       "    </tr>\n",
       "    <tr>\n",
       "      <th rowspan=\"8\" valign=\"top\">TotalCharges</th>\n",
       "      <th>count</th>\n",
       "      <td>2416.000000</td>\n",
       "      <td>3096.000000</td>\n",
       "      <td>1520.000000</td>\n",
       "    </tr>\n",
       "    <tr>\n",
       "      <th>mean</th>\n",
       "      <td>2119.789259</td>\n",
       "      <td>3205.304570</td>\n",
       "      <td>665.220329</td>\n",
       "    </tr>\n",
       "    <tr>\n",
       "      <th>std</th>\n",
       "      <td>1880.169236</td>\n",
       "      <td>2570.220105</td>\n",
       "      <td>555.158112</td>\n",
       "    </tr>\n",
       "    <tr>\n",
       "      <th>min</th>\n",
       "      <td>23.450000</td>\n",
       "      <td>68.500000</td>\n",
       "      <td>18.800000</td>\n",
       "    </tr>\n",
       "    <tr>\n",
       "      <th>25%</th>\n",
       "      <td>435.250000</td>\n",
       "      <td>795.125000</td>\n",
       "      <td>159.875000</td>\n",
       "    </tr>\n",
       "    <tr>\n",
       "      <th>50%</th>\n",
       "      <td>1600.950000</td>\n",
       "      <td>2660.650000</td>\n",
       "      <td>523.675000</td>\n",
       "    </tr>\n",
       "    <tr>\n",
       "      <th>75%</th>\n",
       "      <td>3492.737500</td>\n",
       "      <td>5451.375000</td>\n",
       "      <td>1110.050000</td>\n",
       "    </tr>\n",
       "    <tr>\n",
       "      <th>max</th>\n",
       "      <td>6859.050000</td>\n",
       "      <td>8684.800000</td>\n",
       "      <td>2006.950000</td>\n",
       "    </tr>\n",
       "  </tbody>\n",
       "</table>\n",
       "</div>"
      ],
      "text/plain": [
       "InternetService               DSL  Fiber optic           No\n",
       "tenure         count  2421.000000  3096.000000  1526.000000\n",
       "               mean     32.821561    32.917959    30.547182\n",
       "               std      24.812178    24.425332    24.356507\n",
       "               min       0.000000     1.000000     0.000000\n",
       "               25%       9.000000     9.000000     8.000000\n",
       "               50%      29.000000    30.000000    25.000000\n",
       "               75%      56.000000    56.000000    52.750000\n",
       "               max      72.000000    72.000000    72.000000\n",
       "MonthlyCharges count  2421.000000  3096.000000  1526.000000\n",
       "               mean     58.102169    91.500129    21.079194\n",
       "               std      16.259522    12.663039     2.164221\n",
       "               min      23.450000    67.750000    18.250000\n",
       "               25%      46.200000    80.550000    19.700000\n",
       "               50%      56.150000    91.675000    20.150000\n",
       "               75%      69.900000   101.150000    20.900000\n",
       "               max      94.800000   118.750000    26.900000\n",
       "TotalCharges   count  2416.000000  3096.000000  1520.000000\n",
       "               mean   2119.789259  3205.304570   665.220329\n",
       "               std    1880.169236  2570.220105   555.158112\n",
       "               min      23.450000    68.500000    18.800000\n",
       "               25%     435.250000   795.125000   159.875000\n",
       "               50%    1600.950000  2660.650000   523.675000\n",
       "               75%    3492.737500  5451.375000  1110.050000\n",
       "               max    6859.050000  8684.800000  2006.950000"
      ]
     },
     "execution_count": 135,
     "metadata": {},
     "output_type": "execute_result"
    }
   ],
   "source": [
    "data.drop(columns='SeniorCitizen').groupby('InternetService').describe().T \n",
    "#we plot the statistists according to the Internet Service"
   ]
  },
  {
   "cell_type": "markdown",
   "id": "c740c546",
   "metadata": {},
   "source": [
    "We have seen previously that there is a very high churn rate for those who have a fiber optic service, but we can observe in these statistics that they are also those who bring the most money to the company on average. They are definitely customers that must be kept"
   ]
  },
  {
   "cell_type": "code",
   "execution_count": 136,
   "id": "d865e0b9",
   "metadata": {},
   "outputs": [
    {
     "data": {
      "text/html": [
       "<div>\n",
       "<style scoped>\n",
       "    .dataframe tbody tr th:only-of-type {\n",
       "        vertical-align: middle;\n",
       "    }\n",
       "\n",
       "    .dataframe tbody tr th {\n",
       "        vertical-align: top;\n",
       "    }\n",
       "\n",
       "    .dataframe thead th {\n",
       "        text-align: right;\n",
       "    }\n",
       "</style>\n",
       "<table border=\"1\" class=\"dataframe\">\n",
       "  <thead>\n",
       "    <tr style=\"text-align: right;\">\n",
       "      <th></th>\n",
       "      <th>Partner</th>\n",
       "      <th>No</th>\n",
       "      <th>Yes</th>\n",
       "    </tr>\n",
       "  </thead>\n",
       "  <tbody>\n",
       "    <tr>\n",
       "      <th rowspan=\"8\" valign=\"top\">tenure</th>\n",
       "      <th>count</th>\n",
       "      <td>3641.000000</td>\n",
       "      <td>3402.000000</td>\n",
       "    </tr>\n",
       "    <tr>\n",
       "      <th>mean</th>\n",
       "      <td>23.357869</td>\n",
       "      <td>42.017637</td>\n",
       "    </tr>\n",
       "    <tr>\n",
       "      <th>std</th>\n",
       "      <td>21.769526</td>\n",
       "      <td>23.698742</td>\n",
       "    </tr>\n",
       "    <tr>\n",
       "      <th>min</th>\n",
       "      <td>0.000000</td>\n",
       "      <td>0.000000</td>\n",
       "    </tr>\n",
       "    <tr>\n",
       "      <th>25%</th>\n",
       "      <td>4.000000</td>\n",
       "      <td>21.000000</td>\n",
       "    </tr>\n",
       "    <tr>\n",
       "      <th>50%</th>\n",
       "      <td>16.000000</td>\n",
       "      <td>46.000000</td>\n",
       "    </tr>\n",
       "    <tr>\n",
       "      <th>75%</th>\n",
       "      <td>39.000000</td>\n",
       "      <td>65.000000</td>\n",
       "    </tr>\n",
       "    <tr>\n",
       "      <th>max</th>\n",
       "      <td>72.000000</td>\n",
       "      <td>72.000000</td>\n",
       "    </tr>\n",
       "    <tr>\n",
       "      <th rowspan=\"8\" valign=\"top\">MonthlyCharges</th>\n",
       "      <th>count</th>\n",
       "      <td>3641.000000</td>\n",
       "      <td>3402.000000</td>\n",
       "    </tr>\n",
       "    <tr>\n",
       "      <th>mean</th>\n",
       "      <td>61.945001</td>\n",
       "      <td>67.776264</td>\n",
       "    </tr>\n",
       "    <tr>\n",
       "      <th>std</th>\n",
       "      <td>29.060087</td>\n",
       "      <td>30.875503</td>\n",
       "    </tr>\n",
       "    <tr>\n",
       "      <th>min</th>\n",
       "      <td>18.250000</td>\n",
       "      <td>18.400000</td>\n",
       "    </tr>\n",
       "    <tr>\n",
       "      <th>25%</th>\n",
       "      <td>34.050000</td>\n",
       "      <td>39.362500</td>\n",
       "    </tr>\n",
       "    <tr>\n",
       "      <th>50%</th>\n",
       "      <td>68.650000</td>\n",
       "      <td>74.800000</td>\n",
       "    </tr>\n",
       "    <tr>\n",
       "      <th>75%</th>\n",
       "      <td>85.400000</td>\n",
       "      <td>94.050000</td>\n",
       "    </tr>\n",
       "    <tr>\n",
       "      <th>max</th>\n",
       "      <td>118.650000</td>\n",
       "      <td>118.750000</td>\n",
       "    </tr>\n",
       "    <tr>\n",
       "      <th rowspan=\"8\" valign=\"top\">TotalCharges</th>\n",
       "      <th>count</th>\n",
       "      <td>3639.000000</td>\n",
       "      <td>3393.000000</td>\n",
       "    </tr>\n",
       "    <tr>\n",
       "      <th>mean</th>\n",
       "      <td>1584.960429</td>\n",
       "      <td>3032.271648</td>\n",
       "    </tr>\n",
       "    <tr>\n",
       "      <th>std</th>\n",
       "      <td>1874.788687</td>\n",
       "      <td>2407.614842</td>\n",
       "    </tr>\n",
       "    <tr>\n",
       "      <th>min</th>\n",
       "      <td>18.850000</td>\n",
       "      <td>18.800000</td>\n",
       "    </tr>\n",
       "    <tr>\n",
       "      <th>25%</th>\n",
       "      <td>191.200000</td>\n",
       "      <td>929.450000</td>\n",
       "    </tr>\n",
       "    <tr>\n",
       "      <th>50%</th>\n",
       "      <td>811.800000</td>\n",
       "      <td>2347.900000</td>\n",
       "    </tr>\n",
       "    <tr>\n",
       "      <th>75%</th>\n",
       "      <td>2337.300000</td>\n",
       "      <td>5000.200000</td>\n",
       "    </tr>\n",
       "    <tr>\n",
       "      <th>max</th>\n",
       "      <td>8547.150000</td>\n",
       "      <td>8684.800000</td>\n",
       "    </tr>\n",
       "  </tbody>\n",
       "</table>\n",
       "</div>"
      ],
      "text/plain": [
       "Partner                        No          Yes\n",
       "tenure         count  3641.000000  3402.000000\n",
       "               mean     23.357869    42.017637\n",
       "               std      21.769526    23.698742\n",
       "               min       0.000000     0.000000\n",
       "               25%       4.000000    21.000000\n",
       "               50%      16.000000    46.000000\n",
       "               75%      39.000000    65.000000\n",
       "               max      72.000000    72.000000\n",
       "MonthlyCharges count  3641.000000  3402.000000\n",
       "               mean     61.945001    67.776264\n",
       "               std      29.060087    30.875503\n",
       "               min      18.250000    18.400000\n",
       "               25%      34.050000    39.362500\n",
       "               50%      68.650000    74.800000\n",
       "               75%      85.400000    94.050000\n",
       "               max     118.650000   118.750000\n",
       "TotalCharges   count  3639.000000  3393.000000\n",
       "               mean   1584.960429  3032.271648\n",
       "               std    1874.788687  2407.614842\n",
       "               min      18.850000    18.800000\n",
       "               25%     191.200000   929.450000\n",
       "               50%     811.800000  2347.900000\n",
       "               75%    2337.300000  5000.200000\n",
       "               max    8547.150000  8684.800000"
      ]
     },
     "execution_count": 136,
     "metadata": {},
     "output_type": "execute_result"
    }
   ],
   "source": [
    "data.drop(columns='SeniorCitizen').groupby('Partner').describe().T\n",
    "# We plot the statistics according to the 'Partner' variable"
   ]
  },
  {
   "cell_type": "code",
   "execution_count": 137,
   "id": "a6447ebc",
   "metadata": {},
   "outputs": [
    {
     "data": {
      "text/html": [
       "<div>\n",
       "<style scoped>\n",
       "    .dataframe tbody tr th:only-of-type {\n",
       "        vertical-align: middle;\n",
       "    }\n",
       "\n",
       "    .dataframe tbody tr th {\n",
       "        vertical-align: top;\n",
       "    }\n",
       "\n",
       "    .dataframe thead th {\n",
       "        text-align: right;\n",
       "    }\n",
       "</style>\n",
       "<table border=\"1\" class=\"dataframe\">\n",
       "  <thead>\n",
       "    <tr style=\"text-align: right;\">\n",
       "      <th></th>\n",
       "      <th>Dependents</th>\n",
       "      <th>No</th>\n",
       "      <th>Yes</th>\n",
       "    </tr>\n",
       "  </thead>\n",
       "  <tbody>\n",
       "    <tr>\n",
       "      <th rowspan=\"8\" valign=\"top\">tenure</th>\n",
       "      <th>count</th>\n",
       "      <td>4933.000000</td>\n",
       "      <td>2110.000000</td>\n",
       "    </tr>\n",
       "    <tr>\n",
       "      <th>mean</th>\n",
       "      <td>29.806000</td>\n",
       "      <td>38.368246</td>\n",
       "    </tr>\n",
       "    <tr>\n",
       "      <th>std</th>\n",
       "      <td>24.259877</td>\n",
       "      <td>24.213340</td>\n",
       "    </tr>\n",
       "    <tr>\n",
       "      <th>min</th>\n",
       "      <td>1.000000</td>\n",
       "      <td>0.000000</td>\n",
       "    </tr>\n",
       "    <tr>\n",
       "      <th>25%</th>\n",
       "      <td>7.000000</td>\n",
       "      <td>16.000000</td>\n",
       "    </tr>\n",
       "    <tr>\n",
       "      <th>50%</th>\n",
       "      <td>25.000000</td>\n",
       "      <td>39.000000</td>\n",
       "    </tr>\n",
       "    <tr>\n",
       "      <th>75%</th>\n",
       "      <td>52.000000</td>\n",
       "      <td>62.000000</td>\n",
       "    </tr>\n",
       "    <tr>\n",
       "      <th>max</th>\n",
       "      <td>72.000000</td>\n",
       "      <td>72.000000</td>\n",
       "    </tr>\n",
       "    <tr>\n",
       "      <th rowspan=\"8\" valign=\"top\">MonthlyCharges</th>\n",
       "      <th>count</th>\n",
       "      <td>4933.000000</td>\n",
       "      <td>2110.000000</td>\n",
       "    </tr>\n",
       "    <tr>\n",
       "      <th>mean</th>\n",
       "      <td>67.002808</td>\n",
       "      <td>59.522156</td>\n",
       "    </tr>\n",
       "    <tr>\n",
       "      <th>std</th>\n",
       "      <td>29.274849</td>\n",
       "      <td>31.301735</td>\n",
       "    </tr>\n",
       "    <tr>\n",
       "      <th>min</th>\n",
       "      <td>18.250000</td>\n",
       "      <td>18.700000</td>\n",
       "    </tr>\n",
       "    <tr>\n",
       "      <th>25%</th>\n",
       "      <td>44.850000</td>\n",
       "      <td>24.500000</td>\n",
       "    </tr>\n",
       "    <tr>\n",
       "      <th>50%</th>\n",
       "      <td>73.900000</td>\n",
       "      <td>60.975000</td>\n",
       "    </tr>\n",
       "    <tr>\n",
       "      <th>75%</th>\n",
       "      <td>90.650000</td>\n",
       "      <td>85.950000</td>\n",
       "    </tr>\n",
       "    <tr>\n",
       "      <th>max</th>\n",
       "      <td>118.650000</td>\n",
       "      <td>118.750000</td>\n",
       "    </tr>\n",
       "    <tr>\n",
       "      <th rowspan=\"8\" valign=\"top\">TotalCharges</th>\n",
       "      <th>count</th>\n",
       "      <td>4933.000000</td>\n",
       "      <td>2099.000000</td>\n",
       "    </tr>\n",
       "    <tr>\n",
       "      <th>mean</th>\n",
       "      <td>2187.709254</td>\n",
       "      <td>2507.955669</td>\n",
       "    </tr>\n",
       "    <tr>\n",
       "      <th>std</th>\n",
       "      <td>2241.593582</td>\n",
       "      <td>2309.884010</td>\n",
       "    </tr>\n",
       "    <tr>\n",
       "      <th>min</th>\n",
       "      <td>18.850000</td>\n",
       "      <td>18.800000</td>\n",
       "    </tr>\n",
       "    <tr>\n",
       "      <th>25%</th>\n",
       "      <td>323.250000</td>\n",
       "      <td>596.275000</td>\n",
       "    </tr>\n",
       "    <tr>\n",
       "      <th>50%</th>\n",
       "      <td>1322.550000</td>\n",
       "      <td>1551.600000</td>\n",
       "    </tr>\n",
       "    <tr>\n",
       "      <th>75%</th>\n",
       "      <td>3581.400000</td>\n",
       "      <td>4161.325000</td>\n",
       "    </tr>\n",
       "    <tr>\n",
       "      <th>max</th>\n",
       "      <td>8684.800000</td>\n",
       "      <td>8672.450000</td>\n",
       "    </tr>\n",
       "  </tbody>\n",
       "</table>\n",
       "</div>"
      ],
      "text/plain": [
       "Dependents                     No          Yes\n",
       "tenure         count  4933.000000  2110.000000\n",
       "               mean     29.806000    38.368246\n",
       "               std      24.259877    24.213340\n",
       "               min       1.000000     0.000000\n",
       "               25%       7.000000    16.000000\n",
       "               50%      25.000000    39.000000\n",
       "               75%      52.000000    62.000000\n",
       "               max      72.000000    72.000000\n",
       "MonthlyCharges count  4933.000000  2110.000000\n",
       "               mean     67.002808    59.522156\n",
       "               std      29.274849    31.301735\n",
       "               min      18.250000    18.700000\n",
       "               25%      44.850000    24.500000\n",
       "               50%      73.900000    60.975000\n",
       "               75%      90.650000    85.950000\n",
       "               max     118.650000   118.750000\n",
       "TotalCharges   count  4933.000000  2099.000000\n",
       "               mean   2187.709254  2507.955669\n",
       "               std    2241.593582  2309.884010\n",
       "               min      18.850000    18.800000\n",
       "               25%     323.250000   596.275000\n",
       "               50%    1322.550000  1551.600000\n",
       "               75%    3581.400000  4161.325000\n",
       "               max    8684.800000  8672.450000"
      ]
     },
     "execution_count": 137,
     "metadata": {},
     "output_type": "execute_result"
    }
   ],
   "source": [
    "data.drop(columns='SeniorCitizen').groupby('Dependents').describe().T"
   ]
  },
  {
   "cell_type": "code",
   "execution_count": 138,
   "id": "68778344",
   "metadata": {},
   "outputs": [
    {
     "data": {
      "text/html": [
       "<div>\n",
       "<style scoped>\n",
       "    .dataframe tbody tr th:only-of-type {\n",
       "        vertical-align: middle;\n",
       "    }\n",
       "\n",
       "    .dataframe tbody tr th {\n",
       "        vertical-align: top;\n",
       "    }\n",
       "\n",
       "    .dataframe thead th {\n",
       "        text-align: right;\n",
       "    }\n",
       "</style>\n",
       "<table border=\"1\" class=\"dataframe\">\n",
       "  <thead>\n",
       "    <tr style=\"text-align: right;\">\n",
       "      <th></th>\n",
       "      <th>OnlineBackup</th>\n",
       "      <th>No</th>\n",
       "      <th>No internet service</th>\n",
       "      <th>Yes</th>\n",
       "    </tr>\n",
       "  </thead>\n",
       "  <tbody>\n",
       "    <tr>\n",
       "      <th rowspan=\"8\" valign=\"top\">tenure</th>\n",
       "      <th>count</th>\n",
       "      <td>3088.000000</td>\n",
       "      <td>1526.000000</td>\n",
       "      <td>2429.000000</td>\n",
       "    </tr>\n",
       "    <tr>\n",
       "      <th>mean</th>\n",
       "      <td>23.680699</td>\n",
       "      <td>30.547182</td>\n",
       "      <td>44.565253</td>\n",
       "    </tr>\n",
       "    <tr>\n",
       "      <th>std</th>\n",
       "      <td>21.551583</td>\n",
       "      <td>24.356507</td>\n",
       "      <td>23.223725</td>\n",
       "    </tr>\n",
       "    <tr>\n",
       "      <th>min</th>\n",
       "      <td>0.000000</td>\n",
       "      <td>0.000000</td>\n",
       "      <td>0.000000</td>\n",
       "    </tr>\n",
       "    <tr>\n",
       "      <th>25%</th>\n",
       "      <td>4.000000</td>\n",
       "      <td>8.000000</td>\n",
       "      <td>25.000000</td>\n",
       "    </tr>\n",
       "    <tr>\n",
       "      <th>50%</th>\n",
       "      <td>17.000000</td>\n",
       "      <td>25.000000</td>\n",
       "      <td>50.000000</td>\n",
       "    </tr>\n",
       "    <tr>\n",
       "      <th>75%</th>\n",
       "      <td>39.000000</td>\n",
       "      <td>52.750000</td>\n",
       "      <td>66.000000</td>\n",
       "    </tr>\n",
       "    <tr>\n",
       "      <th>max</th>\n",
       "      <td>72.000000</td>\n",
       "      <td>72.000000</td>\n",
       "      <td>72.000000</td>\n",
       "    </tr>\n",
       "    <tr>\n",
       "      <th rowspan=\"8\" valign=\"top\">MonthlyCharges</th>\n",
       "      <th>count</th>\n",
       "      <td>3088.000000</td>\n",
       "      <td>1526.000000</td>\n",
       "      <td>2429.000000</td>\n",
       "    </tr>\n",
       "    <tr>\n",
       "      <th>mean</th>\n",
       "      <td>71.938002</td>\n",
       "      <td>21.079194</td>\n",
       "      <td>83.081597</td>\n",
       "    </tr>\n",
       "    <tr>\n",
       "      <th>std</th>\n",
       "      <td>21.021906</td>\n",
       "      <td>2.164221</td>\n",
       "      <td>21.462684</td>\n",
       "    </tr>\n",
       "    <tr>\n",
       "      <th>min</th>\n",
       "      <td>23.450000</td>\n",
       "      <td>18.250000</td>\n",
       "      <td>28.450000</td>\n",
       "    </tr>\n",
       "    <tr>\n",
       "      <th>25%</th>\n",
       "      <td>54.600000</td>\n",
       "      <td>19.700000</td>\n",
       "      <td>66.300000</td>\n",
       "    </tr>\n",
       "    <tr>\n",
       "      <th>50%</th>\n",
       "      <td>74.750000</td>\n",
       "      <td>20.150000</td>\n",
       "      <td>85.800000</td>\n",
       "    </tr>\n",
       "    <tr>\n",
       "      <th>75%</th>\n",
       "      <td>88.812500</td>\n",
       "      <td>20.900000</td>\n",
       "      <td>100.700000</td>\n",
       "    </tr>\n",
       "    <tr>\n",
       "      <th>max</th>\n",
       "      <td>112.950000</td>\n",
       "      <td>26.900000</td>\n",
       "      <td>118.750000</td>\n",
       "    </tr>\n",
       "    <tr>\n",
       "      <th rowspan=\"8\" valign=\"top\">TotalCharges</th>\n",
       "      <th>count</th>\n",
       "      <td>3087.000000</td>\n",
       "      <td>1520.000000</td>\n",
       "      <td>2425.000000</td>\n",
       "    </tr>\n",
       "    <tr>\n",
       "      <th>mean</th>\n",
       "      <td>1828.148364</td>\n",
       "      <td>665.220329</td>\n",
       "      <td>3876.923629</td>\n",
       "    </tr>\n",
       "    <tr>\n",
       "      <th>std</th>\n",
       "      <td>1883.027587</td>\n",
       "      <td>555.158112</td>\n",
       "      <td>2397.985666</td>\n",
       "    </tr>\n",
       "    <tr>\n",
       "      <th>min</th>\n",
       "      <td>23.450000</td>\n",
       "      <td>18.800000</td>\n",
       "      <td>29.850000</td>\n",
       "    </tr>\n",
       "    <tr>\n",
       "      <th>25%</th>\n",
       "      <td>279.950000</td>\n",
       "      <td>159.875000</td>\n",
       "      <td>1782.400000</td>\n",
       "    </tr>\n",
       "    <tr>\n",
       "      <th>50%</th>\n",
       "      <td>1131.200000</td>\n",
       "      <td>523.675000</td>\n",
       "      <td>3899.050000</td>\n",
       "    </tr>\n",
       "    <tr>\n",
       "      <th>75%</th>\n",
       "      <td>2877.500000</td>\n",
       "      <td>1110.050000</td>\n",
       "      <td>5869.400000</td>\n",
       "    </tr>\n",
       "    <tr>\n",
       "      <th>max</th>\n",
       "      <td>8240.850000</td>\n",
       "      <td>2006.950000</td>\n",
       "      <td>8684.800000</td>\n",
       "    </tr>\n",
       "  </tbody>\n",
       "</table>\n",
       "</div>"
      ],
      "text/plain": [
       "OnlineBackup                   No  No internet service          Yes\n",
       "tenure         count  3088.000000          1526.000000  2429.000000\n",
       "               mean     23.680699            30.547182    44.565253\n",
       "               std      21.551583            24.356507    23.223725\n",
       "               min       0.000000             0.000000     0.000000\n",
       "               25%       4.000000             8.000000    25.000000\n",
       "               50%      17.000000            25.000000    50.000000\n",
       "               75%      39.000000            52.750000    66.000000\n",
       "               max      72.000000            72.000000    72.000000\n",
       "MonthlyCharges count  3088.000000          1526.000000  2429.000000\n",
       "               mean     71.938002            21.079194    83.081597\n",
       "               std      21.021906             2.164221    21.462684\n",
       "               min      23.450000            18.250000    28.450000\n",
       "               25%      54.600000            19.700000    66.300000\n",
       "               50%      74.750000            20.150000    85.800000\n",
       "               75%      88.812500            20.900000   100.700000\n",
       "               max     112.950000            26.900000   118.750000\n",
       "TotalCharges   count  3087.000000          1520.000000  2425.000000\n",
       "               mean   1828.148364           665.220329  3876.923629\n",
       "               std    1883.027587           555.158112  2397.985666\n",
       "               min      23.450000            18.800000    29.850000\n",
       "               25%     279.950000           159.875000  1782.400000\n",
       "               50%    1131.200000           523.675000  3899.050000\n",
       "               75%    2877.500000          1110.050000  5869.400000\n",
       "               max    8240.850000          2006.950000  8684.800000"
      ]
     },
     "execution_count": 138,
     "metadata": {},
     "output_type": "execute_result"
    }
   ],
   "source": [
    "data.drop(columns='SeniorCitizen').groupby('OnlineBackup').describe().T"
   ]
  },
  {
   "cell_type": "code",
   "execution_count": 139,
   "id": "4ceac9ab",
   "metadata": {},
   "outputs": [
    {
     "data": {
      "text/html": [
       "<div>\n",
       "<style scoped>\n",
       "    .dataframe tbody tr th:only-of-type {\n",
       "        vertical-align: middle;\n",
       "    }\n",
       "\n",
       "    .dataframe tbody tr th {\n",
       "        vertical-align: top;\n",
       "    }\n",
       "\n",
       "    .dataframe thead th {\n",
       "        text-align: right;\n",
       "    }\n",
       "</style>\n",
       "<table border=\"1\" class=\"dataframe\">\n",
       "  <thead>\n",
       "    <tr style=\"text-align: right;\">\n",
       "      <th></th>\n",
       "      <th>Contract</th>\n",
       "      <th>Month-to-month</th>\n",
       "      <th>One year</th>\n",
       "      <th>Two year</th>\n",
       "    </tr>\n",
       "  </thead>\n",
       "  <tbody>\n",
       "    <tr>\n",
       "      <th rowspan=\"8\" valign=\"top\">tenure</th>\n",
       "      <th>count</th>\n",
       "      <td>3875.000000</td>\n",
       "      <td>1473.000000</td>\n",
       "      <td>1695.000000</td>\n",
       "    </tr>\n",
       "    <tr>\n",
       "      <th>mean</th>\n",
       "      <td>18.036645</td>\n",
       "      <td>42.044807</td>\n",
       "      <td>56.735103</td>\n",
       "    </tr>\n",
       "    <tr>\n",
       "      <th>std</th>\n",
       "      <td>17.689054</td>\n",
       "      <td>19.035883</td>\n",
       "      <td>18.209363</td>\n",
       "    </tr>\n",
       "    <tr>\n",
       "      <th>min</th>\n",
       "      <td>1.000000</td>\n",
       "      <td>0.000000</td>\n",
       "      <td>0.000000</td>\n",
       "    </tr>\n",
       "    <tr>\n",
       "      <th>25%</th>\n",
       "      <td>3.000000</td>\n",
       "      <td>27.000000</td>\n",
       "      <td>48.000000</td>\n",
       "    </tr>\n",
       "    <tr>\n",
       "      <th>50%</th>\n",
       "      <td>12.000000</td>\n",
       "      <td>44.000000</td>\n",
       "      <td>64.000000</td>\n",
       "    </tr>\n",
       "    <tr>\n",
       "      <th>75%</th>\n",
       "      <td>29.000000</td>\n",
       "      <td>58.000000</td>\n",
       "      <td>71.000000</td>\n",
       "    </tr>\n",
       "    <tr>\n",
       "      <th>max</th>\n",
       "      <td>72.000000</td>\n",
       "      <td>72.000000</td>\n",
       "      <td>72.000000</td>\n",
       "    </tr>\n",
       "    <tr>\n",
       "      <th rowspan=\"8\" valign=\"top\">MonthlyCharges</th>\n",
       "      <th>count</th>\n",
       "      <td>3875.000000</td>\n",
       "      <td>1473.000000</td>\n",
       "      <td>1695.000000</td>\n",
       "    </tr>\n",
       "    <tr>\n",
       "      <th>mean</th>\n",
       "      <td>66.398490</td>\n",
       "      <td>65.048608</td>\n",
       "      <td>60.770413</td>\n",
       "    </tr>\n",
       "    <tr>\n",
       "      <th>std</th>\n",
       "      <td>26.926599</td>\n",
       "      <td>31.840539</td>\n",
       "      <td>34.678865</td>\n",
       "    </tr>\n",
       "    <tr>\n",
       "      <th>min</th>\n",
       "      <td>18.750000</td>\n",
       "      <td>18.250000</td>\n",
       "      <td>18.400000</td>\n",
       "    </tr>\n",
       "    <tr>\n",
       "      <th>25%</th>\n",
       "      <td>45.850000</td>\n",
       "      <td>26.900000</td>\n",
       "      <td>24.025000</td>\n",
       "    </tr>\n",
       "    <tr>\n",
       "      <th>50%</th>\n",
       "      <td>73.250000</td>\n",
       "      <td>68.750000</td>\n",
       "      <td>64.350000</td>\n",
       "    </tr>\n",
       "    <tr>\n",
       "      <th>75%</th>\n",
       "      <td>88.875000</td>\n",
       "      <td>94.800000</td>\n",
       "      <td>90.450000</td>\n",
       "    </tr>\n",
       "    <tr>\n",
       "      <th>max</th>\n",
       "      <td>117.450000</td>\n",
       "      <td>118.600000</td>\n",
       "      <td>118.750000</td>\n",
       "    </tr>\n",
       "    <tr>\n",
       "      <th rowspan=\"8\" valign=\"top\">TotalCharges</th>\n",
       "      <th>count</th>\n",
       "      <td>3875.000000</td>\n",
       "      <td>1472.000000</td>\n",
       "      <td>1685.000000</td>\n",
       "    </tr>\n",
       "    <tr>\n",
       "      <th>mean</th>\n",
       "      <td>1369.254581</td>\n",
       "      <td>3034.683084</td>\n",
       "      <td>3728.933947</td>\n",
       "    </tr>\n",
       "    <tr>\n",
       "      <th>std</th>\n",
       "      <td>1613.879008</td>\n",
       "      <td>2229.730075</td>\n",
       "      <td>2571.252806</td>\n",
       "    </tr>\n",
       "    <tr>\n",
       "      <th>min</th>\n",
       "      <td>18.850000</td>\n",
       "      <td>18.800000</td>\n",
       "      <td>20.350000</td>\n",
       "    </tr>\n",
       "    <tr>\n",
       "      <th>25%</th>\n",
       "      <td>160.100000</td>\n",
       "      <td>989.350000</td>\n",
       "      <td>1278.800000</td>\n",
       "    </tr>\n",
       "    <tr>\n",
       "      <th>50%</th>\n",
       "      <td>679.550000</td>\n",
       "      <td>2657.550000</td>\n",
       "      <td>3623.950000</td>\n",
       "    </tr>\n",
       "    <tr>\n",
       "      <th>75%</th>\n",
       "      <td>2066.500000</td>\n",
       "      <td>4859.525000</td>\n",
       "      <td>5999.850000</td>\n",
       "    </tr>\n",
       "    <tr>\n",
       "      <th>max</th>\n",
       "      <td>8061.500000</td>\n",
       "      <td>8684.800000</td>\n",
       "      <td>8672.450000</td>\n",
       "    </tr>\n",
       "  </tbody>\n",
       "</table>\n",
       "</div>"
      ],
      "text/plain": [
       "Contract              Month-to-month     One year     Two year\n",
       "tenure         count     3875.000000  1473.000000  1695.000000\n",
       "               mean        18.036645    42.044807    56.735103\n",
       "               std         17.689054    19.035883    18.209363\n",
       "               min          1.000000     0.000000     0.000000\n",
       "               25%          3.000000    27.000000    48.000000\n",
       "               50%         12.000000    44.000000    64.000000\n",
       "               75%         29.000000    58.000000    71.000000\n",
       "               max         72.000000    72.000000    72.000000\n",
       "MonthlyCharges count     3875.000000  1473.000000  1695.000000\n",
       "               mean        66.398490    65.048608    60.770413\n",
       "               std         26.926599    31.840539    34.678865\n",
       "               min         18.750000    18.250000    18.400000\n",
       "               25%         45.850000    26.900000    24.025000\n",
       "               50%         73.250000    68.750000    64.350000\n",
       "               75%         88.875000    94.800000    90.450000\n",
       "               max        117.450000   118.600000   118.750000\n",
       "TotalCharges   count     3875.000000  1472.000000  1685.000000\n",
       "               mean      1369.254581  3034.683084  3728.933947\n",
       "               std       1613.879008  2229.730075  2571.252806\n",
       "               min         18.850000    18.800000    20.350000\n",
       "               25%        160.100000   989.350000  1278.800000\n",
       "               50%        679.550000  2657.550000  3623.950000\n",
       "               75%       2066.500000  4859.525000  5999.850000\n",
       "               max       8061.500000  8684.800000  8672.450000"
      ]
     },
     "execution_count": 139,
     "metadata": {},
     "output_type": "execute_result"
    }
   ],
   "source": [
    "data.drop(columns='SeniorCitizen').groupby('Contract').describe().T\n",
    "#the aim would then be to push customers to take on longer-term contracts"
   ]
  },
  {
   "cell_type": "code",
   "execution_count": 140,
   "id": "665f7717",
   "metadata": {},
   "outputs": [
    {
     "data": {
      "text/html": [
       "<div>\n",
       "<style scoped>\n",
       "    .dataframe tbody tr th:only-of-type {\n",
       "        vertical-align: middle;\n",
       "    }\n",
       "\n",
       "    .dataframe tbody tr th {\n",
       "        vertical-align: top;\n",
       "    }\n",
       "\n",
       "    .dataframe thead th {\n",
       "        text-align: right;\n",
       "    }\n",
       "</style>\n",
       "<table border=\"1\" class=\"dataframe\">\n",
       "  <thead>\n",
       "    <tr style=\"text-align: right;\">\n",
       "      <th></th>\n",
       "      <th>PaymentMethod</th>\n",
       "      <th>Bank transfer (automatic)</th>\n",
       "      <th>Credit card (automatic)</th>\n",
       "      <th>Electronic check</th>\n",
       "      <th>Mailed check</th>\n",
       "    </tr>\n",
       "  </thead>\n",
       "  <tbody>\n",
       "    <tr>\n",
       "      <th rowspan=\"8\" valign=\"top\">tenure</th>\n",
       "      <th>count</th>\n",
       "      <td>1544.000000</td>\n",
       "      <td>1522.000000</td>\n",
       "      <td>2365.000000</td>\n",
       "      <td>1612.000000</td>\n",
       "    </tr>\n",
       "    <tr>\n",
       "      <th>mean</th>\n",
       "      <td>43.656736</td>\n",
       "      <td>43.269382</td>\n",
       "      <td>25.174630</td>\n",
       "      <td>21.830025</td>\n",
       "    </tr>\n",
       "    <tr>\n",
       "      <th>std</th>\n",
       "      <td>23.197901</td>\n",
       "      <td>23.339581</td>\n",
       "      <td>22.382301</td>\n",
       "      <td>21.218374</td>\n",
       "    </tr>\n",
       "    <tr>\n",
       "      <th>min</th>\n",
       "      <td>0.000000</td>\n",
       "      <td>0.000000</td>\n",
       "      <td>1.000000</td>\n",
       "      <td>0.000000</td>\n",
       "    </tr>\n",
       "    <tr>\n",
       "      <th>25%</th>\n",
       "      <td>23.000000</td>\n",
       "      <td>23.000000</td>\n",
       "      <td>5.000000</td>\n",
       "      <td>3.000000</td>\n",
       "    </tr>\n",
       "    <tr>\n",
       "      <th>50%</th>\n",
       "      <td>48.000000</td>\n",
       "      <td>47.000000</td>\n",
       "      <td>18.000000</td>\n",
       "      <td>15.000000</td>\n",
       "    </tr>\n",
       "    <tr>\n",
       "      <th>75%</th>\n",
       "      <td>66.000000</td>\n",
       "      <td>66.000000</td>\n",
       "      <td>43.000000</td>\n",
       "      <td>36.000000</td>\n",
       "    </tr>\n",
       "    <tr>\n",
       "      <th>max</th>\n",
       "      <td>72.000000</td>\n",
       "      <td>72.000000</td>\n",
       "      <td>72.000000</td>\n",
       "      <td>72.000000</td>\n",
       "    </tr>\n",
       "    <tr>\n",
       "      <th rowspan=\"8\" valign=\"top\">MonthlyCharges</th>\n",
       "      <th>count</th>\n",
       "      <td>1544.000000</td>\n",
       "      <td>1522.000000</td>\n",
       "      <td>2365.000000</td>\n",
       "      <td>1612.000000</td>\n",
       "    </tr>\n",
       "    <tr>\n",
       "      <th>mean</th>\n",
       "      <td>67.192649</td>\n",
       "      <td>66.512385</td>\n",
       "      <td>76.255814</td>\n",
       "      <td>43.917060</td>\n",
       "    </tr>\n",
       "    <tr>\n",
       "      <th>std</th>\n",
       "      <td>30.555200</td>\n",
       "      <td>30.612424</td>\n",
       "      <td>24.053655</td>\n",
       "      <td>26.314665</td>\n",
       "    </tr>\n",
       "    <tr>\n",
       "      <th>min</th>\n",
       "      <td>18.400000</td>\n",
       "      <td>18.250000</td>\n",
       "      <td>18.850000</td>\n",
       "      <td>18.700000</td>\n",
       "    </tr>\n",
       "    <tr>\n",
       "      <th>25%</th>\n",
       "      <td>41.087500</td>\n",
       "      <td>38.662500</td>\n",
       "      <td>60.150000</td>\n",
       "      <td>20.150000</td>\n",
       "    </tr>\n",
       "    <tr>\n",
       "      <th>50%</th>\n",
       "      <td>73.100000</td>\n",
       "      <td>73.025000</td>\n",
       "      <td>80.550000</td>\n",
       "      <td>34.700000</td>\n",
       "    </tr>\n",
       "    <tr>\n",
       "      <th>75%</th>\n",
       "      <td>92.962500</td>\n",
       "      <td>90.850000</td>\n",
       "      <td>94.700000</td>\n",
       "      <td>64.912500</td>\n",
       "    </tr>\n",
       "    <tr>\n",
       "      <th>max</th>\n",
       "      <td>118.750000</td>\n",
       "      <td>117.500000</td>\n",
       "      <td>118.650000</td>\n",
       "      <td>118.600000</td>\n",
       "    </tr>\n",
       "    <tr>\n",
       "      <th rowspan=\"8\" valign=\"top\">TotalCharges</th>\n",
       "      <th>count</th>\n",
       "      <td>1542.000000</td>\n",
       "      <td>1521.000000</td>\n",
       "      <td>2365.000000</td>\n",
       "      <td>1604.000000</td>\n",
       "    </tr>\n",
       "    <tr>\n",
       "      <th>mean</th>\n",
       "      <td>3079.299546</td>\n",
       "      <td>3071.396022</td>\n",
       "      <td>2090.868182</td>\n",
       "      <td>1054.483915</td>\n",
       "    </tr>\n",
       "    <tr>\n",
       "      <th>std</th>\n",
       "      <td>2357.735491</td>\n",
       "      <td>2407.402613</td>\n",
       "      <td>2155.435320</td>\n",
       "      <td>1442.869051</td>\n",
       "    </tr>\n",
       "    <tr>\n",
       "      <th>min</th>\n",
       "      <td>19.250000</td>\n",
       "      <td>19.300000</td>\n",
       "      <td>18.850000</td>\n",
       "      <td>18.800000</td>\n",
       "    </tr>\n",
       "    <tr>\n",
       "      <th>25%</th>\n",
       "      <td>1052.362500</td>\n",
       "      <td>989.050000</td>\n",
       "      <td>308.050000</td>\n",
       "      <td>114.550000</td>\n",
       "    </tr>\n",
       "    <tr>\n",
       "      <th>50%</th>\n",
       "      <td>2474.650000</td>\n",
       "      <td>2453.300000</td>\n",
       "      <td>1253.900000</td>\n",
       "      <td>467.350000</td>\n",
       "    </tr>\n",
       "    <tr>\n",
       "      <th>75%</th>\n",
       "      <td>4943.150000</td>\n",
       "      <td>5016.250000</td>\n",
       "      <td>3340.550000</td>\n",
       "      <td>1294.125000</td>\n",
       "    </tr>\n",
       "    <tr>\n",
       "      <th>max</th>\n",
       "      <td>8684.800000</td>\n",
       "      <td>8670.100000</td>\n",
       "      <td>8564.750000</td>\n",
       "      <td>8331.950000</td>\n",
       "    </tr>\n",
       "  </tbody>\n",
       "</table>\n",
       "</div>"
      ],
      "text/plain": [
       "PaymentMethod         Bank transfer (automatic)  Credit card (automatic)  \\\n",
       "tenure         count                1544.000000              1522.000000   \n",
       "               mean                   43.656736                43.269382   \n",
       "               std                    23.197901                23.339581   \n",
       "               min                     0.000000                 0.000000   \n",
       "               25%                    23.000000                23.000000   \n",
       "               50%                    48.000000                47.000000   \n",
       "               75%                    66.000000                66.000000   \n",
       "               max                    72.000000                72.000000   \n",
       "MonthlyCharges count                1544.000000              1522.000000   \n",
       "               mean                   67.192649                66.512385   \n",
       "               std                    30.555200                30.612424   \n",
       "               min                    18.400000                18.250000   \n",
       "               25%                    41.087500                38.662500   \n",
       "               50%                    73.100000                73.025000   \n",
       "               75%                    92.962500                90.850000   \n",
       "               max                   118.750000               117.500000   \n",
       "TotalCharges   count                1542.000000              1521.000000   \n",
       "               mean                 3079.299546              3071.396022   \n",
       "               std                  2357.735491              2407.402613   \n",
       "               min                    19.250000                19.300000   \n",
       "               25%                  1052.362500               989.050000   \n",
       "               50%                  2474.650000              2453.300000   \n",
       "               75%                  4943.150000              5016.250000   \n",
       "               max                  8684.800000              8670.100000   \n",
       "\n",
       "PaymentMethod         Electronic check  Mailed check  \n",
       "tenure         count       2365.000000   1612.000000  \n",
       "               mean          25.174630     21.830025  \n",
       "               std           22.382301     21.218374  \n",
       "               min            1.000000      0.000000  \n",
       "               25%            5.000000      3.000000  \n",
       "               50%           18.000000     15.000000  \n",
       "               75%           43.000000     36.000000  \n",
       "               max           72.000000     72.000000  \n",
       "MonthlyCharges count       2365.000000   1612.000000  \n",
       "               mean          76.255814     43.917060  \n",
       "               std           24.053655     26.314665  \n",
       "               min           18.850000     18.700000  \n",
       "               25%           60.150000     20.150000  \n",
       "               50%           80.550000     34.700000  \n",
       "               75%           94.700000     64.912500  \n",
       "               max          118.650000    118.600000  \n",
       "TotalCharges   count       2365.000000   1604.000000  \n",
       "               mean        2090.868182   1054.483915  \n",
       "               std         2155.435320   1442.869051  \n",
       "               min           18.850000     18.800000  \n",
       "               25%          308.050000    114.550000  \n",
       "               50%         1253.900000    467.350000  \n",
       "               75%         3340.550000   1294.125000  \n",
       "               max         8564.750000   8331.950000  "
      ]
     },
     "execution_count": 140,
     "metadata": {},
     "output_type": "execute_result"
    }
   ],
   "source": [
    "data.drop(columns='SeniorCitizen').groupby('PaymentMethod').describe().T"
   ]
  },
  {
   "cell_type": "code",
   "execution_count": 141,
   "id": "e1283180",
   "metadata": {},
   "outputs": [
    {
     "data": {
      "image/png": "[encoded data removed]",
      "text/plain": [
       "<Figure size 864x720 with 2 Axes>"
      ]
     },
     "metadata": {
      "needs_background": "light"
     },
     "output_type": "display_data"
    }
   ],
   "source": [
    "#We plot the correlation matrix, the darker a box is, the more features are correlated\n",
    "plt.figure(figsize=(12, 10))\n",
    "\n",
    "corr = data.apply(lambda x: pd.factorize(x)[0]).corr()\n",
    "ax = sns.heatmap(corr, xticklabels=corr.columns, yticklabels=corr.columns, linewidths=.2, cmap='Blues')"
   ]
  },
  {
   "cell_type": "markdown",
   "id": "3e31267e",
   "metadata": {},
   "source": [
    "Internet service, Online security, Online Backup, DeviceProtection, Tech Support and streaming are highly correlated features.\n",
    "Total charges and customer ID are also very correlated, maybe the ID is chosen according to high-potential customers.\n",
    "The most correlated to churn : Senior, Partner, Multiple lines, online backup, Monthly charges."
   ]
  },
  {
   "cell_type": "markdown",
   "id": "a3733022",
   "metadata": {},
   "source": [
    "Now we analyse numeric features regarding the Churn"
   ]
  },
  {
   "cell_type": "code",
   "execution_count": 142,
   "id": "49bf75de",
   "metadata": {},
   "outputs": [
    {
     "data": {
      "image/png": "[encoded data removed]",
      "text/plain": [
       "<Figure size 360x360 with 1 Axes>"
      ]
     },
     "metadata": {
      "needs_background": "light"
     },
     "output_type": "display_data"
    }
   ],
   "source": [
    "sns.catplot(x='Churn', y='tenure', data=data)\n",
    "plt.show()"
   ]
  },
  {
   "cell_type": "markdown",
   "id": "78f71c58",
   "metadata": {},
   "source": [
    "Among those who have churned, there is a large part that has remained for a short time, which is logical, while for those who stayed, the distribution is fairly homogeneous"
   ]
  },
  {
   "cell_type": "code",
   "execution_count": 143,
   "id": "23476b81",
   "metadata": {},
   "outputs": [
    {
     "data": {
      "image/png": "[encoded data removed]",
      "text/plain": [
       "<Figure size 360x360 with 1 Axes>"
      ]
     },
     "metadata": {
      "needs_background": "light"
     },
     "output_type": "display_data"
    }
   ],
   "source": [
    "sns.catplot(x='Churn', y='MonthlyCharges', data=data)\n",
    "plt.show()"
   ]
  },
  {
   "cell_type": "markdown",
   "id": "3e415b58",
   "metadata": {},
   "source": [
    "Among those who have churned, many had high charges > 65"
   ]
  },
  {
   "cell_type": "code",
   "execution_count": 144,
   "id": "b40223c3",
   "metadata": {},
   "outputs": [
    {
     "data": {
      "image/png": "[encoded data removed]",
      "text/plain": [
       "<Figure size 360x360 with 1 Axes>"
      ]
     },
     "metadata": {
      "needs_background": "light"
     },
     "output_type": "display_data"
    }
   ],
   "source": [
    "sns.catplot(x='Churn', y='TotalCharges', data=data)\n",
    "plt.show()"
   ]
  },
  {
   "cell_type": "markdown",
   "id": "83f7c6a9",
   "metadata": {},
   "source": [
    "The overall charge for those who have churned is low in general, because they tend to stay for a short time\n",
    "\n",
    "Now let's observe the distribution of observations within categories"
   ]
  },
  {
   "cell_type": "code",
   "execution_count": 145,
   "id": "fc470008",
   "metadata": {},
   "outputs": [
    {
     "data": {
      "image/png": "[encoded data removed]",
      "text/plain": [
       "<Figure size 360x360 with 1 Axes>"
      ]
     },
     "metadata": {
      "needs_background": "light"
     },
     "output_type": "display_data"
    }
   ],
   "source": [
    "sns.catplot(x='Churn', y='tenure', kind='box', data=data)\n",
    "plt.show()"
   ]
  },
  {
   "cell_type": "markdown",
   "id": "12134b0d",
   "metadata": {},
   "source": [
    "On average, those who have churned stayed less than a year (10 months) while those who stayed have been there for 3 years.\n",
    "75% of those who have churned stayed less than 30 months.\n",
    "A quarter of loyal customers have been here for more than 5 years."
   ]
  },
  {
   "cell_type": "code",
   "execution_count": 146,
   "id": "7274ea3d",
   "metadata": {},
   "outputs": [
    {
     "data": {
      "image/png": "[encoded data removed]",
      "text/plain": [
       "<Figure size 360x360 with 1 Axes>"
      ]
     },
     "metadata": {
      "needs_background": "light"
     },
     "output_type": "display_data"
    }
   ],
   "source": [
    "sns.catplot(x='Churn', y='MonthlyCharges', kind='box', data=data)\n",
    "plt.show()"
   ]
  },
  {
   "cell_type": "markdown",
   "id": "5a099bc5",
   "metadata": {},
   "source": [
    "On average, loyal customers have less monthly charges"
   ]
  },
  {
   "cell_type": "code",
   "execution_count": 147,
   "id": "bd9087bd",
   "metadata": {},
   "outputs": [
    {
     "data": {
      "image/png": "[encoded data removed]",
      "text/plain": [
       "<Figure size 360x360 with 1 Axes>"
      ]
     },
     "metadata": {
      "needs_background": "light"
     },
     "output_type": "display_data"
    }
   ],
   "source": [
    "sns.catplot(x='Churn', y='TotalCharges', kind='box', data=data)\n",
    "plt.show()"
   ]
  },
  {
   "cell_type": "markdown",
   "id": "5e3ce7ee",
   "metadata": {},
   "source": [
    "Data preprocessing"
   ]
  },
  {
   "cell_type": "markdown",
   "id": "dcaa5702",
   "metadata": {},
   "source": [
    "Data as such can't be used. We'll transform the data so that we can feed it to a machine learning algorithm"
   ]
  },
  {
   "cell_type": "code",
   "execution_count": 148,
   "id": "29bf96f1",
   "metadata": {},
   "outputs": [],
   "source": [
    "from sklearn.linear_model import LogisticRegression\n",
    "from sklearn.tree import DecisionTreeClassifier\n",
    "from sklearn.svm import SVC\n",
    "from sklearn.ensemble import RandomForestClassifier\n",
    "from sklearn.metrics import roc_auc_score\n",
    "from sklearn.model_selection import GridSearchCV #we will do hyperparameters tuning"
   ]
  },
  {
   "cell_type": "code",
   "execution_count": 149,
   "id": "92aa4907",
   "metadata": {},
   "outputs": [],
   "source": [
    "missing_index = np.array(data.isnull()).nonzero()[0] #indices of missing values"
   ]
  },
  {
   "cell_type": "code",
   "execution_count": 150,
   "id": "54c9dc1d",
   "metadata": {},
   "outputs": [
    {
     "data": {
      "text/plain": [
       "Index(['customerID', 'gender', 'SeniorCitizen', 'Partner', 'Dependents',\n",
       "       'tenure', 'PhoneService', 'MultipleLines', 'InternetService',\n",
       "       'OnlineSecurity', 'OnlineBackup', 'DeviceProtection', 'TechSupport',\n",
       "       'StreamingTV', 'StreamingMovies', 'Contract', 'PaperlessBilling',\n",
       "       'PaymentMethod', 'MonthlyCharges', 'TotalCharges', 'Churn'],\n",
       "      dtype='object')"
      ]
     },
     "execution_count": 150,
     "metadata": {},
     "output_type": "execute_result"
    }
   ],
   "source": [
    "data.columns"
   ]
  },
  {
   "cell_type": "code",
   "execution_count": 151,
   "id": "16b42156",
   "metadata": {},
   "outputs": [],
   "source": [
    "#target\n",
    "y = data.Churn\n",
    "X = data.drop(columns=['Churn', 'customerID'])\n",
    "y = y.drop(index=missing_index)"
   ]
  },
  {
   "cell_type": "code",
   "execution_count": 152,
   "id": "6d3d1eca",
   "metadata": {},
   "outputs": [],
   "source": [
    "#label encoding for gender feature\n",
    "X['gender'] = X['gender'].map({'Male':1, 'Female':0})\n",
    "\n",
    "#label encoding for other binary features\n",
    "binary_variables = ['Partner','Dependents','PhoneService','PaperlessBilling']\n",
    "X[binary_variables] = X[binary_variables].replace({'Yes':1, 'No':0})\n",
    "\n",
    "#we scale numeric features because they have different magnitudes which can impact the performance of our model\n",
    "X['tenure'] = (X['tenure'] - X['tenure'].mean()) / X['tenure'].std()\n",
    "X['MonthlyCharges'] = (X['MonthlyCharges'] - X['MonthlyCharges'].mean()) / X['MonthlyCharges'].std()\n",
    "X['TotalCharges'] = (X['TotalCharges'] - X['TotalCharges'].mean()) / X['TotalCharges'].std()"
   ]
  },
  {
   "cell_type": "code",
   "execution_count": 153,
   "id": "d18e7aee",
   "metadata": {},
   "outputs": [],
   "source": [
    "#categorical features with more than 2 options\n",
    "other_variables = ['MultipleLines', 'InternetService', 'OnlineSecurity',\n",
    "                 'OnlineBackup', 'DeviceProtection', 'TechSupport',\n",
    "                 'StreamingTV', 'StreamingMovies', 'Contract', 'PaymentMethod']\n",
    "onehot_encoded = pd.get_dummies(X[other_variables])"
   ]
  },
  {
   "cell_type": "code",
   "execution_count": 154,
   "id": "df63f369",
   "metadata": {},
   "outputs": [
    {
     "data": {
      "text/html": [
       "<div>\n",
       "<style scoped>\n",
       "    .dataframe tbody tr th:only-of-type {\n",
       "        vertical-align: middle;\n",
       "    }\n",
       "\n",
       "    .dataframe tbody tr th {\n",
       "        vertical-align: top;\n",
       "    }\n",
       "\n",
       "    .dataframe thead th {\n",
       "        text-align: right;\n",
       "    }\n",
       "</style>\n",
       "<table border=\"1\" class=\"dataframe\">\n",
       "  <thead>\n",
       "    <tr style=\"text-align: right;\">\n",
       "      <th></th>\n",
       "      <th>MultipleLines_No</th>\n",
       "      <th>MultipleLines_No phone service</th>\n",
       "      <th>MultipleLines_Yes</th>\n",
       "      <th>InternetService_DSL</th>\n",
       "      <th>InternetService_Fiber optic</th>\n",
       "      <th>InternetService_No</th>\n",
       "      <th>OnlineSecurity_No</th>\n",
       "      <th>OnlineSecurity_No internet service</th>\n",
       "      <th>OnlineSecurity_Yes</th>\n",
       "      <th>OnlineBackup_No</th>\n",
       "      <th>...</th>\n",
       "      <th>StreamingMovies_No</th>\n",
       "      <th>StreamingMovies_No internet service</th>\n",
       "      <th>StreamingMovies_Yes</th>\n",
       "      <th>Contract_Month-to-month</th>\n",
       "      <th>Contract_One year</th>\n",
       "      <th>Contract_Two year</th>\n",
       "      <th>PaymentMethod_Bank transfer (automatic)</th>\n",
       "      <th>PaymentMethod_Credit card (automatic)</th>\n",
       "      <th>PaymentMethod_Electronic check</th>\n",
       "      <th>PaymentMethod_Mailed check</th>\n",
       "    </tr>\n",
       "  </thead>\n",
       "  <tbody>\n",
       "    <tr>\n",
       "      <th>0</th>\n",
       "      <td>0</td>\n",
       "      <td>1</td>\n",
       "      <td>0</td>\n",
       "      <td>1</td>\n",
       "      <td>0</td>\n",
       "      <td>0</td>\n",
       "      <td>1</td>\n",
       "      <td>0</td>\n",
       "      <td>0</td>\n",
       "      <td>0</td>\n",
       "      <td>...</td>\n",
       "      <td>1</td>\n",
       "      <td>0</td>\n",
       "      <td>0</td>\n",
       "      <td>1</td>\n",
       "      <td>0</td>\n",
       "      <td>0</td>\n",
       "      <td>0</td>\n",
       "      <td>0</td>\n",
       "      <td>1</td>\n",
       "      <td>0</td>\n",
       "    </tr>\n",
       "    <tr>\n",
       "      <th>1</th>\n",
       "      <td>1</td>\n",
       "      <td>0</td>\n",
       "      <td>0</td>\n",
       "      <td>1</td>\n",
       "      <td>0</td>\n",
       "      <td>0</td>\n",
       "      <td>0</td>\n",
       "      <td>0</td>\n",
       "      <td>1</td>\n",
       "      <td>1</td>\n",
       "      <td>...</td>\n",
       "      <td>1</td>\n",
       "      <td>0</td>\n",
       "      <td>0</td>\n",
       "      <td>0</td>\n",
       "      <td>1</td>\n",
       "      <td>0</td>\n",
       "      <td>0</td>\n",
       "      <td>0</td>\n",
       "      <td>0</td>\n",
       "      <td>1</td>\n",
       "    </tr>\n",
       "    <tr>\n",
       "      <th>2</th>\n",
       "      <td>1</td>\n",
       "      <td>0</td>\n",
       "      <td>0</td>\n",
       "      <td>1</td>\n",
       "      <td>0</td>\n",
       "      <td>0</td>\n",
       "      <td>0</td>\n",
       "      <td>0</td>\n",
       "      <td>1</td>\n",
       "      <td>0</td>\n",
       "      <td>...</td>\n",
       "      <td>1</td>\n",
       "      <td>0</td>\n",
       "      <td>0</td>\n",
       "      <td>1</td>\n",
       "      <td>0</td>\n",
       "      <td>0</td>\n",
       "      <td>0</td>\n",
       "      <td>0</td>\n",
       "      <td>0</td>\n",
       "      <td>1</td>\n",
       "    </tr>\n",
       "    <tr>\n",
       "      <th>3</th>\n",
       "      <td>0</td>\n",
       "      <td>1</td>\n",
       "      <td>0</td>\n",
       "      <td>1</td>\n",
       "      <td>0</td>\n",
       "      <td>0</td>\n",
       "      <td>0</td>\n",
       "      <td>0</td>\n",
       "      <td>1</td>\n",
       "      <td>1</td>\n",
       "      <td>...</td>\n",
       "      <td>1</td>\n",
       "      <td>0</td>\n",
       "      <td>0</td>\n",
       "      <td>0</td>\n",
       "      <td>1</td>\n",
       "      <td>0</td>\n",
       "      <td>1</td>\n",
       "      <td>0</td>\n",
       "      <td>0</td>\n",
       "      <td>0</td>\n",
       "    </tr>\n",
       "    <tr>\n",
       "      <th>4</th>\n",
       "      <td>1</td>\n",
       "      <td>0</td>\n",
       "      <td>0</td>\n",
       "      <td>0</td>\n",
       "      <td>1</td>\n",
       "      <td>0</td>\n",
       "      <td>1</td>\n",
       "      <td>0</td>\n",
       "      <td>0</td>\n",
       "      <td>1</td>\n",
       "      <td>...</td>\n",
       "      <td>1</td>\n",
       "      <td>0</td>\n",
       "      <td>0</td>\n",
       "      <td>1</td>\n",
       "      <td>0</td>\n",
       "      <td>0</td>\n",
       "      <td>0</td>\n",
       "      <td>0</td>\n",
       "      <td>1</td>\n",
       "      <td>0</td>\n",
       "    </tr>\n",
       "  </tbody>\n",
       "</table>\n",
       "<p>5 rows × 31 columns</p>\n",
       "</div>"
      ],
      "text/plain": [
       "   MultipleLines_No  MultipleLines_No phone service  MultipleLines_Yes  \\\n",
       "0                 0                               1                  0   \n",
       "1                 1                               0                  0   \n",
       "2                 1                               0                  0   \n",
       "3                 0                               1                  0   \n",
       "4                 1                               0                  0   \n",
       "\n",
       "   InternetService_DSL  InternetService_Fiber optic  InternetService_No  \\\n",
       "0                    1                            0                   0   \n",
       "1                    1                            0                   0   \n",
       "2                    1                            0                   0   \n",
       "3                    1                            0                   0   \n",
       "4                    0                            1                   0   \n",
       "\n",
       "   OnlineSecurity_No  OnlineSecurity_No internet service  OnlineSecurity_Yes  \\\n",
       "0                  1                                   0                   0   \n",
       "1                  0                                   0                   1   \n",
       "2                  0                                   0                   1   \n",
       "3                  0                                   0                   1   \n",
       "4                  1                                   0                   0   \n",
       "\n",
       "   OnlineBackup_No  ...  StreamingMovies_No  \\\n",
       "0                0  ...                   1   \n",
       "1                1  ...                   1   \n",
       "2                0  ...                   1   \n",
       "3                1  ...                   1   \n",
       "4                1  ...                   1   \n",
       "\n",
       "   StreamingMovies_No internet service  StreamingMovies_Yes  \\\n",
       "0                                    0                    0   \n",
       "1                                    0                    0   \n",
       "2                                    0                    0   \n",
       "3                                    0                    0   \n",
       "4                                    0                    0   \n",
       "\n",
       "   Contract_Month-to-month  Contract_One year  Contract_Two year  \\\n",
       "0                        1                  0                  0   \n",
       "1                        0                  1                  0   \n",
       "2                        1                  0                  0   \n",
       "3                        0                  1                  0   \n",
       "4                        1                  0                  0   \n",
       "\n",
       "   PaymentMethod_Bank transfer (automatic)  \\\n",
       "0                                        0   \n",
       "1                                        0   \n",
       "2                                        0   \n",
       "3                                        1   \n",
       "4                                        0   \n",
       "\n",
       "   PaymentMethod_Credit card (automatic)  PaymentMethod_Electronic check  \\\n",
       "0                                      0                               1   \n",
       "1                                      0                               0   \n",
       "2                                      0                               0   \n",
       "3                                      0                               0   \n",
       "4                                      0                               1   \n",
       "\n",
       "   PaymentMethod_Mailed check  \n",
       "0                           0  \n",
       "1                           1  \n",
       "2                           1  \n",
       "3                           0  \n",
       "4                           0  \n",
       "\n",
       "[5 rows x 31 columns]"
      ]
     },
     "execution_count": 154,
     "metadata": {},
     "output_type": "execute_result"
    }
   ],
   "source": [
    "onehot_encoded.head()"
   ]
  },
  {
   "cell_type": "code",
   "execution_count": 155,
   "id": "3681a751",
   "metadata": {},
   "outputs": [],
   "source": [
    "#features to scale to address the problem of features that are on different magnitudes\n",
    "numeric = ['tenure', 'MonthlyCharges', 'TotalCharges']"
   ]
  },
  {
   "cell_type": "code",
   "execution_count": 156,
   "id": "7db88f60",
   "metadata": {},
   "outputs": [],
   "source": [
    "X = X.drop(columns=other_variables) #we drop these variables, then concatenate the table with the one-hot encoded version"
   ]
  },
  {
   "cell_type": "code",
   "execution_count": 157,
   "id": "394ddc9c",
   "metadata": {},
   "outputs": [
    {
     "data": {
      "text/html": [
       "<div>\n",
       "<style scoped>\n",
       "    .dataframe tbody tr th:only-of-type {\n",
       "        vertical-align: middle;\n",
       "    }\n",
       "\n",
       "    .dataframe tbody tr th {\n",
       "        vertical-align: top;\n",
       "    }\n",
       "\n",
       "    .dataframe thead th {\n",
       "        text-align: right;\n",
       "    }\n",
       "</style>\n",
       "<table border=\"1\" class=\"dataframe\">\n",
       "  <thead>\n",
       "    <tr style=\"text-align: right;\">\n",
       "      <th></th>\n",
       "      <th>gender</th>\n",
       "      <th>SeniorCitizen</th>\n",
       "      <th>Partner</th>\n",
       "      <th>Dependents</th>\n",
       "      <th>tenure</th>\n",
       "      <th>PhoneService</th>\n",
       "      <th>PaperlessBilling</th>\n",
       "      <th>MonthlyCharges</th>\n",
       "      <th>TotalCharges</th>\n",
       "    </tr>\n",
       "  </thead>\n",
       "  <tbody>\n",
       "    <tr>\n",
       "      <th>0</th>\n",
       "      <td>0</td>\n",
       "      <td>0</td>\n",
       "      <td>1</td>\n",
       "      <td>0</td>\n",
       "      <td>-1.277354</td>\n",
       "      <td>0</td>\n",
       "      <td>1</td>\n",
       "      <td>-1.160241</td>\n",
       "      <td>-0.994123</td>\n",
       "    </tr>\n",
       "    <tr>\n",
       "      <th>1</th>\n",
       "      <td>1</td>\n",
       "      <td>0</td>\n",
       "      <td>0</td>\n",
       "      <td>0</td>\n",
       "      <td>0.066323</td>\n",
       "      <td>1</td>\n",
       "      <td>0</td>\n",
       "      <td>-0.259611</td>\n",
       "      <td>-0.173727</td>\n",
       "    </tr>\n",
       "    <tr>\n",
       "      <th>2</th>\n",
       "      <td>1</td>\n",
       "      <td>0</td>\n",
       "      <td>0</td>\n",
       "      <td>0</td>\n",
       "      <td>-1.236636</td>\n",
       "      <td>1</td>\n",
       "      <td>1</td>\n",
       "      <td>-0.362635</td>\n",
       "      <td>-0.959581</td>\n",
       "    </tr>\n",
       "    <tr>\n",
       "      <th>3</th>\n",
       "      <td>1</td>\n",
       "      <td>0</td>\n",
       "      <td>0</td>\n",
       "      <td>0</td>\n",
       "      <td>0.514215</td>\n",
       "      <td>0</td>\n",
       "      <td>0</td>\n",
       "      <td>-0.746482</td>\n",
       "      <td>-0.195234</td>\n",
       "    </tr>\n",
       "    <tr>\n",
       "      <th>4</th>\n",
       "      <td>0</td>\n",
       "      <td>0</td>\n",
       "      <td>0</td>\n",
       "      <td>0</td>\n",
       "      <td>-1.236636</td>\n",
       "      <td>1</td>\n",
       "      <td>1</td>\n",
       "      <td>0.197351</td>\n",
       "      <td>-0.940391</td>\n",
       "    </tr>\n",
       "  </tbody>\n",
       "</table>\n",
       "</div>"
      ],
      "text/plain": [
       "   gender  SeniorCitizen  Partner  Dependents    tenure  PhoneService  \\\n",
       "0       0              0        1           0 -1.277354             0   \n",
       "1       1              0        0           0  0.066323             1   \n",
       "2       1              0        0           0 -1.236636             1   \n",
       "3       1              0        0           0  0.514215             0   \n",
       "4       0              0        0           0 -1.236636             1   \n",
       "\n",
       "   PaperlessBilling  MonthlyCharges  TotalCharges  \n",
       "0                 1       -1.160241     -0.994123  \n",
       "1                 0       -0.259611     -0.173727  \n",
       "2                 1       -0.362635     -0.959581  \n",
       "3                 0       -0.746482     -0.195234  \n",
       "4                 1        0.197351     -0.940391  "
      ]
     },
     "execution_count": 157,
     "metadata": {},
     "output_type": "execute_result"
    }
   ],
   "source": [
    "X.head()"
   ]
  },
  {
   "cell_type": "code",
   "execution_count": 158,
   "id": "1566eb70",
   "metadata": {},
   "outputs": [
    {
     "data": {
      "text/html": [
       "<div>\n",
       "<style scoped>\n",
       "    .dataframe tbody tr th:only-of-type {\n",
       "        vertical-align: middle;\n",
       "    }\n",
       "\n",
       "    .dataframe tbody tr th {\n",
       "        vertical-align: top;\n",
       "    }\n",
       "\n",
       "    .dataframe thead th {\n",
       "        text-align: right;\n",
       "    }\n",
       "</style>\n",
       "<table border=\"1\" class=\"dataframe\">\n",
       "  <thead>\n",
       "    <tr style=\"text-align: right;\">\n",
       "      <th></th>\n",
       "      <th>gender</th>\n",
       "      <th>SeniorCitizen</th>\n",
       "      <th>Partner</th>\n",
       "      <th>Dependents</th>\n",
       "      <th>tenure</th>\n",
       "      <th>PhoneService</th>\n",
       "      <th>PaperlessBilling</th>\n",
       "      <th>MonthlyCharges</th>\n",
       "      <th>TotalCharges</th>\n",
       "      <th>MultipleLines_No</th>\n",
       "      <th>...</th>\n",
       "      <th>StreamingMovies_No</th>\n",
       "      <th>StreamingMovies_No internet service</th>\n",
       "      <th>StreamingMovies_Yes</th>\n",
       "      <th>Contract_Month-to-month</th>\n",
       "      <th>Contract_One year</th>\n",
       "      <th>Contract_Two year</th>\n",
       "      <th>PaymentMethod_Bank transfer (automatic)</th>\n",
       "      <th>PaymentMethod_Credit card (automatic)</th>\n",
       "      <th>PaymentMethod_Electronic check</th>\n",
       "      <th>PaymentMethod_Mailed check</th>\n",
       "    </tr>\n",
       "  </thead>\n",
       "  <tbody>\n",
       "    <tr>\n",
       "      <th>0</th>\n",
       "      <td>0</td>\n",
       "      <td>0</td>\n",
       "      <td>1</td>\n",
       "      <td>0</td>\n",
       "      <td>-1.277354</td>\n",
       "      <td>0</td>\n",
       "      <td>1</td>\n",
       "      <td>-1.160241</td>\n",
       "      <td>-0.994123</td>\n",
       "      <td>0</td>\n",
       "      <td>...</td>\n",
       "      <td>1</td>\n",
       "      <td>0</td>\n",
       "      <td>0</td>\n",
       "      <td>1</td>\n",
       "      <td>0</td>\n",
       "      <td>0</td>\n",
       "      <td>0</td>\n",
       "      <td>0</td>\n",
       "      <td>1</td>\n",
       "      <td>0</td>\n",
       "    </tr>\n",
       "    <tr>\n",
       "      <th>1</th>\n",
       "      <td>1</td>\n",
       "      <td>0</td>\n",
       "      <td>0</td>\n",
       "      <td>0</td>\n",
       "      <td>0.066323</td>\n",
       "      <td>1</td>\n",
       "      <td>0</td>\n",
       "      <td>-0.259611</td>\n",
       "      <td>-0.173727</td>\n",
       "      <td>1</td>\n",
       "      <td>...</td>\n",
       "      <td>1</td>\n",
       "      <td>0</td>\n",
       "      <td>0</td>\n",
       "      <td>0</td>\n",
       "      <td>1</td>\n",
       "      <td>0</td>\n",
       "      <td>0</td>\n",
       "      <td>0</td>\n",
       "      <td>0</td>\n",
       "      <td>1</td>\n",
       "    </tr>\n",
       "    <tr>\n",
       "      <th>2</th>\n",
       "      <td>1</td>\n",
       "      <td>0</td>\n",
       "      <td>0</td>\n",
       "      <td>0</td>\n",
       "      <td>-1.236636</td>\n",
       "      <td>1</td>\n",
       "      <td>1</td>\n",
       "      <td>-0.362635</td>\n",
       "      <td>-0.959581</td>\n",
       "      <td>1</td>\n",
       "      <td>...</td>\n",
       "      <td>1</td>\n",
       "      <td>0</td>\n",
       "      <td>0</td>\n",
       "      <td>1</td>\n",
       "      <td>0</td>\n",
       "      <td>0</td>\n",
       "      <td>0</td>\n",
       "      <td>0</td>\n",
       "      <td>0</td>\n",
       "      <td>1</td>\n",
       "    </tr>\n",
       "    <tr>\n",
       "      <th>3</th>\n",
       "      <td>1</td>\n",
       "      <td>0</td>\n",
       "      <td>0</td>\n",
       "      <td>0</td>\n",
       "      <td>0.514215</td>\n",
       "      <td>0</td>\n",
       "      <td>0</td>\n",
       "      <td>-0.746482</td>\n",
       "      <td>-0.195234</td>\n",
       "      <td>0</td>\n",
       "      <td>...</td>\n",
       "      <td>1</td>\n",
       "      <td>0</td>\n",
       "      <td>0</td>\n",
       "      <td>0</td>\n",
       "      <td>1</td>\n",
       "      <td>0</td>\n",
       "      <td>1</td>\n",
       "      <td>0</td>\n",
       "      <td>0</td>\n",
       "      <td>0</td>\n",
       "    </tr>\n",
       "    <tr>\n",
       "      <th>4</th>\n",
       "      <td>0</td>\n",
       "      <td>0</td>\n",
       "      <td>0</td>\n",
       "      <td>0</td>\n",
       "      <td>-1.236636</td>\n",
       "      <td>1</td>\n",
       "      <td>1</td>\n",
       "      <td>0.197351</td>\n",
       "      <td>-0.940391</td>\n",
       "      <td>1</td>\n",
       "      <td>...</td>\n",
       "      <td>1</td>\n",
       "      <td>0</td>\n",
       "      <td>0</td>\n",
       "      <td>1</td>\n",
       "      <td>0</td>\n",
       "      <td>0</td>\n",
       "      <td>0</td>\n",
       "      <td>0</td>\n",
       "      <td>1</td>\n",
       "      <td>0</td>\n",
       "    </tr>\n",
       "  </tbody>\n",
       "</table>\n",
       "<p>5 rows × 40 columns</p>\n",
       "</div>"
      ],
      "text/plain": [
       "   gender  SeniorCitizen  Partner  Dependents    tenure  PhoneService  \\\n",
       "0       0              0        1           0 -1.277354             0   \n",
       "1       1              0        0           0  0.066323             1   \n",
       "2       1              0        0           0 -1.236636             1   \n",
       "3       1              0        0           0  0.514215             0   \n",
       "4       0              0        0           0 -1.236636             1   \n",
       "\n",
       "   PaperlessBilling  MonthlyCharges  TotalCharges  MultipleLines_No  ...  \\\n",
       "0                 1       -1.160241     -0.994123                 0  ...   \n",
       "1                 0       -0.259611     -0.173727                 1  ...   \n",
       "2                 1       -0.362635     -0.959581                 1  ...   \n",
       "3                 0       -0.746482     -0.195234                 0  ...   \n",
       "4                 1        0.197351     -0.940391                 1  ...   \n",
       "\n",
       "   StreamingMovies_No  StreamingMovies_No internet service  \\\n",
       "0                   1                                    0   \n",
       "1                   1                                    0   \n",
       "2                   1                                    0   \n",
       "3                   1                                    0   \n",
       "4                   1                                    0   \n",
       "\n",
       "   StreamingMovies_Yes  Contract_Month-to-month  Contract_One year  \\\n",
       "0                    0                        1                  0   \n",
       "1                    0                        0                  1   \n",
       "2                    0                        1                  0   \n",
       "3                    0                        0                  1   \n",
       "4                    0                        1                  0   \n",
       "\n",
       "   Contract_Two year  PaymentMethod_Bank transfer (automatic)  \\\n",
       "0                  0                                        0   \n",
       "1                  0                                        0   \n",
       "2                  0                                        0   \n",
       "3                  0                                        1   \n",
       "4                  0                                        0   \n",
       "\n",
       "   PaymentMethod_Credit card (automatic)  PaymentMethod_Electronic check  \\\n",
       "0                                      0                               1   \n",
       "1                                      0                               0   \n",
       "2                                      0                               0   \n",
       "3                                      0                               0   \n",
       "4                                      0                               1   \n",
       "\n",
       "   PaymentMethod_Mailed check  \n",
       "0                           0  \n",
       "1                           1  \n",
       "2                           1  \n",
       "3                           0  \n",
       "4                           0  \n",
       "\n",
       "[5 rows x 40 columns]"
      ]
     },
     "execution_count": 158,
     "metadata": {},
     "output_type": "execute_result"
    }
   ],
   "source": [
    "X = pd.concat([X, onehot_encoded], axis=1)\n",
    "X.head()"
   ]
  },
  {
   "cell_type": "code",
   "execution_count": 159,
   "id": "a43f05aa",
   "metadata": {},
   "outputs": [],
   "source": [
    "feature_names = X.columns"
   ]
  },
  {
   "cell_type": "code",
   "execution_count": 160,
   "id": "9374068c",
   "metadata": {},
   "outputs": [],
   "source": [
    "#There are only 11 missing values, so we can simply drop them\n",
    "X = X.dropna()"
   ]
  },
  {
   "cell_type": "code",
   "execution_count": 161,
   "id": "cf8e7094",
   "metadata": {},
   "outputs": [],
   "source": [
    "#label encoding for target feature\n",
    "y = y.map({'Yes':1, 'No':0})"
   ]
  },
  {
   "cell_type": "code",
   "execution_count": 162,
   "id": "b3e6d2ad",
   "metadata": {},
   "outputs": [],
   "source": [
    "#We split the dataset into train set (70%) and test set (30%)\n",
    "l = len(X)\n",
    "split = int(l*0.7) \n",
    "X_train, X_test = X[:split], X[split:]\n",
    "y_train, y_test = y[:split], y[split:]\n",
    "\n",
    "#We convert the pandas dataframes into numpy matrices\n",
    "X_train, X_test = np.array(X_train), np.array(X_test)\n",
    "y_train, y_test = np.array(y_train), np.array(y_test)"
   ]
  },
  {
   "cell_type": "code",
   "execution_count": 163,
   "id": "658ba17c",
   "metadata": {},
   "outputs": [],
   "source": [
    "from sklearn.model_selection import train_test_split\n",
    "from sklearn.preprocessing import StandardScaler"
   ]
  },
  {
   "cell_type": "code",
   "execution_count": 164,
   "id": "00b877b3",
   "metadata": {},
   "outputs": [],
   "source": [
    "scaler =StandardScaler()\n",
    "\n",
    "X_scaled = scaler.fit_transform(X)"
   ]
  },
  {
   "cell_type": "code",
   "execution_count": 165,
   "id": "f0d139a9",
   "metadata": {},
   "outputs": [],
   "source": [
    "#splitting my data for test and train\n",
    "x_train,x_test,y_train,y_test = train_test_split(X_scaled,y,test_size = 0.25,random_state=355)"
   ]
  },
  {
   "cell_type": "code",
   "execution_count": 166,
   "id": "d4c36af7",
   "metadata": {},
   "outputs": [
    {
     "name": "stdout",
     "output_type": "stream",
     "text": [
      "Requirement already satisfied: XGBoost in c:\\users\\nayee\\anaconda3\\lib\\site-packages (1.6.0)\n",
      "Requirement already satisfied: numpy in c:\\users\\nayee\\anaconda3\\lib\\site-packages (from XGBoost) (1.20.3)\n",
      "Requirement already satisfied: scipy in c:\\users\\nayee\\anaconda3\\lib\\site-packages (from XGBoost) (1.7.1)\n",
      "Note: you may need to restart the kernel to use updated packages.\n"
     ]
    }
   ],
   "source": [
    "pip install XGBoost"
   ]
  },
  {
   "cell_type": "code",
   "execution_count": 167,
   "id": "0c3e5b6a",
   "metadata": {},
   "outputs": [],
   "source": [
    "# build different machine learning models with the same random state if applicable\n",
    "from sklearn.tree import DecisionTreeClassifier\n",
    "from sklearn.ensemble import RandomForestClassifier\n",
    "from sklearn.neighbors import KNeighborsClassifier \n",
    "from sklearn.linear_model import LogisticRegression\n",
    "from sklearn.ensemble import GradientBoostingClassifier\n",
    "import xgboost as xgb\n",
    "from sklearn.model_selection import GridSearchCV\n",
    "from sklearn.metrics import classification_report,confusion_matrix,plot_confusion_matrix,roc_curve, roc_auc_score\n",
    "\n",
    "lr = LogisticRegression(random_state = 6)\n",
    "knn = KNeighborsClassifier()\n",
    "rf = RandomForestClassifier(random_state = 6)\n",
    "dt = DecisionTreeClassifier(random_state = 6)\n",
    "xg = xgb.XGBClassifier(random_state = 6)"
   ]
  },
  {
   "cell_type": "code",
   "execution_count": 168,
   "id": "76a24205",
   "metadata": {},
   "outputs": [],
   "source": [
    "# naive approach on each models without hyperparameter tuning\n",
    "from sklearn.model_selection import cross_val_score,KFold\n",
    "model_list = [lr,knn,rf,dt,xg]\n",
    "score_res = []\n",
    "for model in model_list:\n",
    "    draft = cross_val_score(model, x_train, y_train, cv = 5)\n",
    "    score_res.append(draft)"
   ]
  },
  {
   "cell_type": "code",
   "execution_count": 169,
   "id": "af21c226",
   "metadata": {},
   "outputs": [
    {
     "name": "stdout",
     "output_type": "stream",
     "text": [
      "============================================================\n",
      "The Score is listed below \n",
      "\n",
      "       Logistic Regression    KNN  Random Forest  Decision Tree  XG Boost\n",
      "cv_1                0.786  0.747          0.794          0.743     0.773\n",
      "cv_2                0.806  0.747          0.786          0.723     0.792\n",
      "cv_3                0.806  0.755          0.796          0.752     0.785\n",
      "cv_4                0.802  0.725          0.782          0.709     0.767\n",
      "cv_5                0.818  0.754          0.792          0.727     0.787\n",
      "============================================================\n"
     ]
    }
   ],
   "source": [
    "# print out naive approach performance\n",
    "model_names = ['Logistic Regression', 'KNN', 'Random Forest','Decision Tree','XG Boost']\n",
    "idx = ['cv_1','cv_2','cv_3','cv_4','cv_5']\n",
    "df_accuracy = pd.DataFrame(np.array(score_res).T, columns = model_names, index = idx).round(decimals=3)\n",
    "print('='*60)\n",
    "print('The Score is listed below \\n\\n',df_accuracy)\n",
    "print('='*60)"
   ]
  },
  {
   "cell_type": "code",
   "execution_count": 170,
   "id": "c850bfaf",
   "metadata": {},
   "outputs": [
    {
     "data": {
      "image/png": "[encoded data removed]",
      "text/plain": [
       "<Figure size 720x576 with 1 Axes>"
      ]
     },
     "metadata": {
      "needs_background": "light"
     },
     "output_type": "display_data"
    }
   ],
   "source": [
    "# visualize the performance of different machine learning models\n",
    "plt.figure(figsize=(10, 8))\n",
    "sns.boxplot(data = df_accuracy)\n",
    "plt.savefig('draft.png');"
   ]
  },
  {
   "cell_type": "code",
   "execution_count": 171,
   "id": "191213f1",
   "metadata": {},
   "outputs": [],
   "source": [
    "#It looks like decision tree is not performaning well compared with other models."
   ]
  },
  {
   "cell_type": "code",
   "execution_count": 172,
   "id": "79b482bd",
   "metadata": {},
   "outputs": [],
   "source": [
    "# helper function to get best parameters from best model after grid search cross validation\n",
    "best_models = []\n",
    "def get_grid_res(gs):\n",
    "    print(\"Best Score:\", \"{:.3f}\".format(gs.best_score_))\n",
    "    print(\"Best Parameters:\")\n",
    "    best_params = gs.best_params_\n",
    "    for k, v in best_params.items():\n",
    "        print(k, \":\", v)"
   ]
  },
  {
   "cell_type": "code",
   "execution_count": 173,
   "id": "3c740de4",
   "metadata": {},
   "outputs": [],
   "source": [
    "# set kfold number for k fold cross validation method\n",
    "kfold = KFold(n_splits=10, random_state = 6,shuffle=True)"
   ]
  },
  {
   "cell_type": "code",
   "execution_count": 174,
   "id": "861983c1",
   "metadata": {},
   "outputs": [],
   "source": [
    "# hyperparameter tuning for logistic regression\n",
    "lr_params = {'penalty':('l1', 'l2'), \n",
    "          'C':(0.001, 0.005, 0.01, 0.05, 0.1, 0.5, 1, 5, 10)}"
   ]
  },
  {
   "cell_type": "code",
   "execution_count": 175,
   "id": "e31c22b8",
   "metadata": {},
   "outputs": [
    {
     "data": {
      "text/plain": [
       "GridSearchCV(cv=KFold(n_splits=10, random_state=6, shuffle=True),\n",
       "             estimator=LogisticRegression(random_state=6),\n",
       "             param_grid={'C': (0.001, 0.005, 0.01, 0.05, 0.1, 0.5, 1, 5, 10),\n",
       "                         'penalty': ('l1', 'l2')})"
      ]
     },
     "execution_count": 175,
     "metadata": {},
     "output_type": "execute_result"
    }
   ],
   "source": [
    "# apply grid search on each hyperparameter and fit in with data\n",
    "grid_lr = GridSearchCV(lr, lr_params, cv= kfold)\n",
    "grid_lr.fit(x_train, y_train)"
   ]
  },
  {
   "cell_type": "code",
   "execution_count": 176,
   "id": "67f12b51",
   "metadata": {},
   "outputs": [],
   "source": [
    "lr_res = grid_lr.cv_results_"
   ]
  },
  {
   "cell_type": "code",
   "execution_count": 177,
   "id": "f2b8a8ba",
   "metadata": {},
   "outputs": [
    {
     "data": {
      "image/png": "[encoded data removed]",
      "text/plain": [
       "<Figure size 720x576 with 1 Axes>"
      ]
     },
     "metadata": {},
     "output_type": "display_data"
    }
   ],
   "source": [
    "# visualize the affect of different hyperparameters on performance\n",
    "sns.set_style('darkgrid')\n",
    "plt.figure(figsize=(10, 8))\n",
    "sns.scatterplot(x = 'param_C', y = 'mean_test_score',hue = 'param_penalty',data = lr_res)\n",
    "plt.xlabel('Parameter C',fontsize = 15)\n",
    "plt.ylabel('Estimator',fontsize = 15)\n",
    "plt.title('GridSearch Cross Validation Result',fontsize = 15)\n",
    "plt.legend(fontsize = 15)\n",
    "plt.savefig('LR.png');"
   ]
  },
  {
   "cell_type": "code",
   "execution_count": 178,
   "id": "dc79fa85",
   "metadata": {},
   "outputs": [
    {
     "name": "stdout",
     "output_type": "stream",
     "text": [
      "Best Score: 0.805\n",
      "Best Parameters:\n",
      "C : 0.5\n",
      "penalty : l2\n"
     ]
    }
   ],
   "source": [
    "# apply helper function to get the best hyperparameter\n",
    "get_grid_res(grid_lr)"
   ]
  },
  {
   "cell_type": "code",
   "execution_count": 179,
   "id": "5fdb696f",
   "metadata": {},
   "outputs": [],
   "source": [
    "best_lr_model = grid_lr.best_estimator_"
   ]
  },
  {
   "cell_type": "code",
   "execution_count": 180,
   "id": "329a01a7",
   "metadata": {},
   "outputs": [],
   "source": [
    "# append the best model to the list for other evalution\n",
    "best_models.append(('Logistic Regression', best_lr_model))"
   ]
  },
  {
   "cell_type": "code",
   "execution_count": 181,
   "id": "131a4ad0",
   "metadata": {},
   "outputs": [],
   "source": [
    "# hyperparameter tuning for K nearest neighbors\n",
    "knn_params = {\n",
    "    'n_neighbors':[3,5,7,9,11,13,15,17,21,31,59,61,63] \n",
    "}"
   ]
  },
  {
   "cell_type": "code",
   "execution_count": 182,
   "id": "29880241",
   "metadata": {},
   "outputs": [
    {
     "data": {
      "text/plain": [
       "GridSearchCV(cv=KFold(n_splits=10, random_state=6, shuffle=True),\n",
       "             estimator=KNeighborsClassifier(),\n",
       "             param_grid={'n_neighbors': [3, 5, 7, 9, 11, 13, 15, 17, 21, 31, 59,\n",
       "                                         61, 63]})"
      ]
     },
     "execution_count": 182,
     "metadata": {},
     "output_type": "execute_result"
    }
   ],
   "source": [
    "# apply grid search on each hyperparameter and fit in with data\n",
    "grid_knn = GridSearchCV(knn, knn_params, cv= kfold)\n",
    "grid_knn.fit(x_train, y_train)"
   ]
  },
  {
   "cell_type": "code",
   "execution_count": 183,
   "id": "67188560",
   "metadata": {},
   "outputs": [],
   "source": [
    "knn_res = grid_knn.cv_results_"
   ]
  },
  {
   "cell_type": "code",
   "execution_count": 184,
   "id": "a6aff5b5",
   "metadata": {},
   "outputs": [
    {
     "data": {
      "image/png": "[encoded data removed]",
      "text/plain": [
       "<Figure size 720x576 with 1 Axes>"
      ]
     },
     "metadata": {},
     "output_type": "display_data"
    }
   ],
   "source": [
    "# visualize the affect of different hyperparameters on performance\n",
    "sns.set_style('darkgrid')\n",
    "plt.figure(figsize=(10, 8))\n",
    "sns.scatterplot(x = 'param_n_neighbors', y = 'mean_test_score',data = knn_res)\n",
    "plt.xlabel('Parameter K',fontsize = 15)\n",
    "plt.ylabel('Estimator',fontsize = 15)\n",
    "plt.title('GridSearch Cross Validation Result',fontsize = 15)\n",
    "plt.savefig('knn.png');"
   ]
  },
  {
   "cell_type": "code",
   "execution_count": 185,
   "id": "6fd906ac",
   "metadata": {},
   "outputs": [
    {
     "name": "stdout",
     "output_type": "stream",
     "text": [
      "Best Score: 0.790\n",
      "Best Parameters:\n",
      "n_neighbors : 61\n"
     ]
    }
   ],
   "source": [
    "# apply helper function to get the best hyperparameter\n",
    "get_grid_res(grid_knn)"
   ]
  },
  {
   "cell_type": "code",
   "execution_count": 186,
   "id": "87002be4",
   "metadata": {},
   "outputs": [],
   "source": [
    "best_knn_model = grid_knn.best_estimator_"
   ]
  },
  {
   "cell_type": "code",
   "execution_count": 187,
   "id": "2d40d2bd",
   "metadata": {},
   "outputs": [],
   "source": [
    "# append the best model to the list for other evalution\n",
    "best_models.append(('K Nearest Neighbors',best_knn_model))"
   ]
  },
  {
   "cell_type": "code",
   "execution_count": 188,
   "id": "5c787696",
   "metadata": {},
   "outputs": [
    {
     "data": {
      "text/plain": [
       "GridSearchCV(cv=KFold(n_splits=10, random_state=6, shuffle=True),\n",
       "             estimator=RandomForestClassifier(random_state=6),\n",
       "             param_grid={'max_depth': [1, 5, 10, 15],\n",
       "                         'max_features': ['sqrt', 'auto', 'log2'],\n",
       "                         'min_samples_split': [4, 6, 8],\n",
       "                         'n_estimators': [20, 40, 60, 80]})"
      ]
     },
     "execution_count": 188,
     "metadata": {},
     "output_type": "execute_result"
    }
   ],
   "source": [
    "# hyperparameter tuning for random forest\n",
    "params_rf = {\n",
    "    'n_estimators': [20,40,60,80],\n",
    "    'min_samples_split':[4,6,8],\n",
    "    'max_depth': [1, 5, 10, 15],\n",
    "    'max_features': ['sqrt', 'auto','log2']\n",
    "}\n",
    "grid_rf = GridSearchCV(rf,params_rf, cv=kfold)\n",
    "grid_rf.fit(x_train, y_train)"
   ]
  },
  {
   "cell_type": "code",
   "execution_count": 189,
   "id": "8cfae16e",
   "metadata": {},
   "outputs": [
    {
     "name": "stdout",
     "output_type": "stream",
     "text": [
      "Best Score: 0.802\n",
      "Best Parameters:\n",
      "max_depth : 10\n",
      "max_features : log2\n",
      "min_samples_split : 4\n",
      "n_estimators : 80\n"
     ]
    }
   ],
   "source": [
    "# apply helper function to get the best hyperparameter\n",
    "get_grid_res(grid_rf)"
   ]
  },
  {
   "cell_type": "code",
   "execution_count": 190,
   "id": "198e37a7",
   "metadata": {},
   "outputs": [],
   "source": [
    "rf_res = grid_rf.cv_results_"
   ]
  },
  {
   "cell_type": "code",
   "execution_count": 191,
   "id": "4d795d1a",
   "metadata": {},
   "outputs": [],
   "source": [
    "best_rf_model = grid_rf.best_estimator_"
   ]
  },
  {
   "cell_type": "code",
   "execution_count": 192,
   "id": "584536ea",
   "metadata": {},
   "outputs": [],
   "source": [
    "# append the best model to the list for other evalution\n",
    "best_models.append(('Random Forest', best_rf_model))"
   ]
  },
  {
   "cell_type": "code",
   "execution_count": 193,
   "id": "53e6e8a9",
   "metadata": {},
   "outputs": [
    {
     "data": {
      "text/plain": [
       "GridSearchCV(cv=KFold(n_splits=10, random_state=6, shuffle=True),\n",
       "             estimator=DecisionTreeClassifier(random_state=6),\n",
       "             param_grid={'max_depth': [1, 5, 10, 15],\n",
       "                         'min_samples_split': [2, 4, 6, 8, 10]})"
      ]
     },
     "execution_count": 193,
     "metadata": {},
     "output_type": "execute_result"
    }
   ],
   "source": [
    "# hyperparameter tuning for decision tree\n",
    "params_dt = {\n",
    "    'max_depth':[1,5,10,15],\n",
    "    'min_samples_split':[2,4,6,8,10]\n",
    "}\n",
    "grid_dt = GridSearchCV(dt,params_dt, cv=kfold)\n",
    "grid_dt.fit(x_train, y_train)"
   ]
  },
  {
   "cell_type": "code",
   "execution_count": 194,
   "id": "37af4e61",
   "metadata": {},
   "outputs": [
    {
     "name": "stdout",
     "output_type": "stream",
     "text": [
      "Best Score: 0.792\n",
      "Best Parameters:\n",
      "max_depth : 5\n",
      "min_samples_split : 2\n"
     ]
    }
   ],
   "source": [
    "# apply helper function to get the best hyperparameter\n",
    "get_grid_res(grid_dt)"
   ]
  },
  {
   "cell_type": "code",
   "execution_count": 195,
   "id": "6ef7b362",
   "metadata": {},
   "outputs": [],
   "source": [
    "best_dt_model = grid_dt.best_estimator_"
   ]
  },
  {
   "cell_type": "code",
   "execution_count": 196,
   "id": "f213f959",
   "metadata": {},
   "outputs": [],
   "source": [
    "# append the best model to the list for other evalution\n",
    "best_models.append(('Decision Tree', best_dt_model))"
   ]
  },
  {
   "cell_type": "code",
   "execution_count": 197,
   "id": "7ea3cb54",
   "metadata": {},
   "outputs": [],
   "source": [
    "# hyperparameter tuning for extreme boosting tree aka xgboost\n",
    "params_xgb = {\n",
    "        'subsample': [0.4, 0.6, 0.8],\n",
    "        'max_depth': [1,5,10,15],\n",
    "        'n_estimators':[40,60,80],\n",
    "        'reg_alpha':[0.01, 0.05, 0.1, 0.5, 1, 5],\n",
    "        'reg_lambda':[0.01, 0.05, 0.1, 0.5, 1, 5],\n",
    "        'eta':[0.4,0.6,0.8],\n",
    "        'learning_rate':[0.1, 0.3, 0.5]\n",
    "        }"
   ]
  },
  {
   "cell_type": "code",
   "execution_count": 198,
   "id": "3ac2368e",
   "metadata": {},
   "outputs": [
    {
     "data": {
      "text/plain": [
       "RandomizedSearchCV(cv=KFold(n_splits=10, random_state=6, shuffle=True),\n",
       "                   estimator=XGBClassifier(base_score=None, booster=None,\n",
       "                                           callbacks=None,\n",
       "                                           colsample_bylevel=None,\n",
       "                                           colsample_bynode=None,\n",
       "                                           colsample_bytree=None,\n",
       "                                           early_stopping_rounds=None,\n",
       "                                           enable_categorical=False,\n",
       "                                           eval_metric=None, gamma=None,\n",
       "                                           gpu_id=None, grow_policy=None,\n",
       "                                           importance_type=None,\n",
       "                                           interaction_cons...\n",
       "                                           n_estimators=100, n_jobs=None,\n",
       "                                           num_parallel_tree=None,\n",
       "                                           predictor=None, random_state=6,\n",
       "                                           reg_alpha=None, reg_lambda=None, ...),\n",
       "                   n_iter=200,\n",
       "                   param_distributions={'eta': [0.4, 0.6, 0.8],\n",
       "                                        'learning_rate': [0.1, 0.3, 0.5],\n",
       "                                        'max_depth': [1, 5, 10, 15],\n",
       "                                        'n_estimators': [40, 60, 80],\n",
       "                                        'reg_alpha': [0.01, 0.05, 0.1, 0.5, 1,\n",
       "                                                      5],\n",
       "                                        'reg_lambda': [0.01, 0.05, 0.1, 0.5, 1,\n",
       "                                                       5],\n",
       "                                        'subsample': [0.4, 0.6, 0.8]})"
      ]
     },
     "execution_count": 198,
     "metadata": {},
     "output_type": "execute_result"
    }
   ],
   "source": [
    "from sklearn.model_selection import RandomizedSearchCV\n",
    "grid_xgb = RandomizedSearchCV(xg, params_xgb,cv = kfold,n_iter = 200)\n",
    "grid_xgb.fit(x_train, y_train)"
   ]
  },
  {
   "cell_type": "code",
   "execution_count": 199,
   "id": "073f1df5",
   "metadata": {},
   "outputs": [
    {
     "name": "stdout",
     "output_type": "stream",
     "text": [
      "Best Score: 0.804\n",
      "Best Parameters:\n",
      "subsample : 0.6\n",
      "reg_lambda : 5\n",
      "reg_alpha : 1\n",
      "n_estimators : 60\n",
      "max_depth : 1\n",
      "learning_rate : 0.5\n",
      "eta : 0.4\n"
     ]
    }
   ],
   "source": [
    "# apply helper function to get the best hyperparameter\n",
    "get_grid_res(grid_xgb)"
   ]
  },
  {
   "cell_type": "code",
   "execution_count": 200,
   "id": "b6c21a65",
   "metadata": {},
   "outputs": [],
   "source": [
    "best_xgb_model = grid_xgb.best_estimator_"
   ]
  },
  {
   "cell_type": "code",
   "execution_count": 201,
   "id": "7f915d3f",
   "metadata": {},
   "outputs": [],
   "source": [
    "# append the best model to the list for other evalution\n",
    "best_models.append(('Extreme Boosting Tree', best_xgb_model))"
   ]
  },
  {
   "cell_type": "code",
   "execution_count": 202,
   "id": "9871bc67",
   "metadata": {},
   "outputs": [
    {
     "name": "stdout",
     "output_type": "stream",
     "text": [
      "Logistic Regression\n",
      "K Nearest Neighbors\n",
      "Random Forest\n",
      "Decision Tree\n",
      "Extreme Boosting Tree\n"
     ]
    }
   ],
   "source": [
    "# print out the list of optimized models\n",
    "for name,model in best_models:\n",
    "    print(name)"
   ]
  },
  {
   "cell_type": "code",
   "execution_count": 203,
   "id": "55a5143a",
   "metadata": {},
   "outputs": [],
   "source": [
    "# helper function to print out and visualize the evaluation result of each model including\n",
    "# confusion matrix, precison-recall and f1 score\n",
    "def plot_cm(models):\n",
    "    sns.set_style('white')\n",
    "    class_names = ['No','Yes']\n",
    "    for model_name, model in models:\n",
    "        cm = confusion_matrix(y_test,model.predict(x_test))\n",
    "        tn = cm[0][0]\n",
    "        fp = cm[0][1]\n",
    "        fn = cm[1][0]\n",
    "        tp = cm[1][1]\n",
    "        accuracy  = (tp + tn) / (tp + fp + fn + tn + 0.0)\n",
    "        precision = tp / (tp + fp + 0.0)\n",
    "        recall = tp / (tp + fn + 0.0)\n",
    "        f1 = 2 / (( 1 / precision) + ( 1 / recall))\n",
    "        plot_confusion_matrix(model, x_test, y_test,\n",
    "                              display_labels=class_names,\n",
    "                              cmap=\"Oranges\")\n",
    "        plt.title(model_name, fontsize = 15)\n",
    "        plt.ylabel('Actual',fontsize = 15)\n",
    "        plt.xlabel('Predicted\\nAccuracy = {}\\nPrecision = {}\\nRecell = {}\\nF1 = {}'\n",
    "                   .format((round(accuracy, 3)),round(precision, 3),round(recall, 3),round(f1, 3)), fontsize = 15)"
   ]
  },
  {
   "cell_type": "code",
   "execution_count": 204,
   "id": "d4a02682",
   "metadata": {},
   "outputs": [
    {
     "data": {
      "image/png": "[encoded data removed]",
      "text/plain": [
       "<Figure size 432x288 with 2 Axes>"
      ]
     },
     "metadata": {},
     "output_type": "display_data"
    },
    {
     "data": {
      "image/png": "[encoded data removed]",
      "text/plain": [
       "<Figure size 432x288 with 2 Axes>"
      ]
     },
     "metadata": {},
     "output_type": "display_data"
    },
    {
     "data": {
      "image/png": "[encoded data removed]",
      "text/plain": [
       "<Figure size 432x288 with 2 Axes>"
      ]
     },
     "metadata": {},
     "output_type": "display_data"
    },
    {
     "data": {
      "image/png": "[encoded data removed]",
      "text/plain": [
       "<Figure size 432x288 with 2 Axes>"
      ]
     },
     "metadata": {},
     "output_type": "display_data"
    },
    {
     "data": {
      "image/png": "[encoded data removed]",
      "text/plain": [
       "<Figure size 432x288 with 2 Axes>"
      ]
     },
     "metadata": {},
     "output_type": "display_data"
    }
   ],
   "source": [
    "plot_cm(best_models)\n",
    "plt.savefig('cm.png')"
   ]
  },
  {
   "cell_type": "code",
   "execution_count": 205,
   "id": "899b67d7",
   "metadata": {},
   "outputs": [
    {
     "data": {
      "image/png": "[encoded data removed]",
      "text/plain": [
       "<Figure size 576x432 with 1 Axes>"
      ]
     },
     "metadata": {},
     "output_type": "display_data"
    }
   ],
   "source": [
    "# visualize ROC curve for each optimized model\n",
    "result_table = pd.DataFrame(columns=['classifiers', 'fpr','tpr','auc'])\n",
    "for model_name, model in best_models:\n",
    "        yproba = model.predict_proba(x_test)[::,1]\n",
    "\n",
    "        fpr, tpr, _ = roc_curve(y_test,  yproba)\n",
    "        auc = roc_auc_score(y_test, yproba)\n",
    "        result_table = result_table.append({'classifiers':model_name,\n",
    "                                            'fpr':fpr, \n",
    "                                            'tpr':tpr, \n",
    "                                            'auc':auc}, ignore_index=True)\n",
    "\n",
    "    # Set name of the classifiers as index labels\n",
    "result_table.set_index('classifiers', inplace=True)\n",
    "\n",
    "plt.figure(figsize=(8,6))\n",
    "\n",
    "for i in result_table.index:\n",
    "    plt.plot(result_table.loc[i]['fpr'], \n",
    "             result_table.loc[i]['tpr'],\n",
    "             label=\"{}, AUC={:.3f}\".format(i, result_table.loc[i]['auc']))\n",
    "\n",
    "plt.plot([0,1], [0,1], color='orange', linestyle='--')\n",
    "plt.xlabel(\"False Positive Rate\", fontsize=15)\n",
    "plt.ylabel(\"True Positive Rate\", fontsize=15)\n",
    "plt.title('ROC Curve Analysis',fontsize=15)\n",
    "plt.legend(prop={'size':13}, loc='lower right')\n",
    "plt.savefig('ROC.png');"
   ]
  },
  {
   "cell_type": "code",
   "execution_count": 206,
   "id": "f0f7a629",
   "metadata": {},
   "outputs": [
    {
     "name": "stdout",
     "output_type": "stream",
     "text": [
      "0.8020477815699659\n"
     ]
    }
   ],
   "source": [
    "# Fit the model on training set\n",
    "import pickle\n",
    "model = LogisticRegression()\n",
    "model.fit(x_train, y_train)\n",
    "# save the model to disk\n",
    "filename = 'finalized_model.sav'\n",
    "pickle.dump(model, open(filename, 'wb'))\n",
    " \n",
    "# some time later...\n",
    " \n",
    "# load the model from disk\n",
    "loaded_model = pickle.load(open(filename, 'rb'))\n",
    "result = loaded_model.score(x_test, y_test)\n",
    "print(result)"
   ]
  },
  {
   "cell_type": "code",
   "execution_count": null,
   "id": "40831d7b",
   "metadata": {},
   "outputs": [],
   "source": []
  }
 ],
 "metadata": {
  "kernelspec": {
   "display_name": "Python 3 (ipykernel)",
   "language": "python",
   "name": "python3"
  },
  "language_info": {
   "codemirror_mode": {
    "name": "ipython",
    "version": 3
   },
   "file_extension": ".py",
   "mimetype": "text/x-python",
   "name": "python",
   "nbconvert_exporter": "python",
   "pygments_lexer": "ipython3",
   "version": "3.9.7"
  }
 },
 "nbformat": 4,
 "nbformat_minor": 5
}
